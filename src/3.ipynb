{
 "cells": [
  {
   "cell_type": "code",
   "execution_count": 29,
   "metadata": {},
   "outputs": [],
   "source": [
    "import pandas as pd\n",
    "import scipy.stats as st\n",
    "import matplotlib.pyplot as plt\n",
    "from scipy import stats\n",
    "\n",
    "dataAnggur = pd.read_csv('../data/anggur.csv')"
   ]
  },
  {
   "attachments": {},
   "cell_type": "markdown",
   "metadata": {},
   "source": [
    "Menentukan setiap kolom numerik berdistribusi normal atau tidak. Gunakan normality test\n",
    "yang dikaitkan dengan histogram plot"
   ]
  },
  {
   "attachments": {},
   "cell_type": "markdown",
   "metadata": {},
   "source": [
    "## Asumsi\n",
    "Pada tes normalitas yang dilakukan pada Tugas Besar II ini, berlaku asumsi sebagai berikut:\n",
    "- Suatu distibusi dapat dikatakan *positively skewed* apabila memiliki nilai *skewness* lebih besar dari 0.5\n",
    "- Suatu distibusi dapat dikatakan *negatively skewed* apabila memiliki nilai *skewness* lebih besar dari -0.5\n",
    "- Suatu distibusi dapat dikatakan simetris apabila memiliki nilai *skewness* diantara -0.5 sampai 0.5\n",
    "- Jika nilai modus = median = mean maka nilai *skewness* adalah nol\n",
    "- Jika nilai modus < median < mean maka distribusi dapat dikatakan *positively skewed* \n",
    "- Jika nilai modus > median > mean maka distribusi dapat dikatakan *negatively skewed* "
   ]
  },
  {
   "attachments": {},
   "cell_type": "markdown",
   "metadata": {},
   "source": [
    "## Metode Pengetesan Normalitas\n",
    "Secara umum, pengetesan normalitas dibagi menjadi dua cara, yaitu sebagai berikut.\n",
    "- Pengetesan melalui grafik. Pengetesan dilakukan dengan membandingkan grafik (histogram, QQ plot, dll.) dengan grafik yang bersesuaian dari sampel data yang berdistribusi normal. Pendekatan ini bersifat informal.\n",
    "- Pengetesan statistik. Pengetesan ini dilakukan dengan uji hipotesis. Contoh pengetesan normalitas secara statistik adalah Shapiro-Wilk test, Kolmogorov-Smirnov test, dan Jarque-Bera test. Pengetesan ini bersifat formal.\n",
    "<br>\n",
    "\n",
    "Pada bagian ini, pengetesan normalitas yang digunakan yaitu pengetesan melalui histogram, yang akan dikaitkan dengan statistik-statistik tertentu seperti *skewness*, *excess kurtosis*, mean, median, dan modus. Lalu, hasil pengetesan tersebut dibandingkan dengan hasil pengetesan normalitas statistik, yaitu D'Agostino-Pearson Test dan Shapiro-Wilk Test.\n",
    "<br><br>\n",
    "Berikut adalah penjelasan mengenai pengetesan yang digunakan.\n",
    "\n",
    "### 1. Pengetesan melalui Histogram\n",
    "Secara teoretis, data yang berdistribusi normal memiliki histogram dengan ciri sebagai berikut.\n",
    "- Histogram berbentuk bell-shaped yang simetris.\n",
    "- Histogram berbentuk simetris terhadap sumbu tegak x = mean.\n",
    "- Kurva mendekati sumbu datar secara asimtotik ke kiri dan kanan.\n",
    "- Skewness bernilai 0, yang menandakan distribusi simetris.\n",
    "- Kurtosis bernilai 3 (excess kurtosis bernilai 0).\n",
    "<br>\n",
    "\n",
    "Pada pengetesan yang dilakukan, histogram setiap kolom divisualisasikan dan dibandingkan dengan ciri histogram di atas. Namun, untuk perhitungan skewness dan kurtosis, diberikan toleransi sebesar 0.5, seperti asumsi yang dituliskan di atas. \n",
    "\n",
    "### 2. D'Agostino-Pearson Test\n",
    "D'Agostino-Pearson Test adalah tes normalitas yang perhitungannya menggabungkan hasil tes skewness dan kurtosis D'Agostino. Tes ini kurang sensitif terhadap penyimpangan (deviasi) dari distribusi normal di ekor distribusi.\n",
    "$$\n",
    "K^2 = Z_s^2 + Z_k^2\n",
    "$$\n",
    "$Z_s^2$ adalah z-score dari tes skewness D'Agostino dan $Z_k^2$ adalah z-score dari tes kurtosis D'Agostino. Jika hipotesis null terbukti, $K^2$ diaproksimasi terdistribusi chi-squared dengan derajat kebebasan 2.\n",
    "<br><br>\n",
    "Berikut adalah mekanisme pengujian hipotesis pada D'Agostino-Pearson Test.\n",
    "- H0 : Data berdistribusi normal\n",
    "- H1 : Data tidak berdistribusi normal\n",
    "- Nilai Alpha : 0.05\n",
    "- Tes Statistik : (insert gambar rumus tes statistik)\n",
    "- Penarikan Kesimpulan : Jika Nilai P > alpha, maka H0 *fail to reject*, artinya data berdistribusi normal. Sebaliknya, jika Nilai P <= alpha, maka H0 *rejected*, artinya data tidak berdistribusi normal.\n",
    "\n",
    "### 3. Shapiro-Wilk Test\n",
    "Shapiro-Wilk Test adalah tes normalitas yang perhitungannya didasari oleh perbandingan antara data yang diobservasi dan *expected normal distribution* dari data tersebut. Tes ini tidak terlalu *reliable* untuk jumlah sampel yang kecil. Namun, sampel yang ada pada tiap kolom sudah cukup besar, yaitu sebanyak 1000 sampel.<br><br>\n",
    "Berikut adalah mekanisme pengujian hipotesis pada Shapiro-Wilk Test.\n",
    "- H0 : Data berdistribusi normal\n",
    "- H1 : Data tidak berdistribusi normal\n",
    "- Nilai Alpha : 0.05\n",
    "- Tes Statistik : (insert gambar rumus tes statistik)\n",
    "- Penarikan Kesimpulan : Jika Nilai P > alpha, maka H0 fail to reject, artinya data berdistribusi normal. Sebaliknya, jika Nilai P <= alpha, maka H0 rejected, artinya data tidak berdistribusi normal."
   ]
  },
  {
   "cell_type": "code",
   "execution_count": 30,
   "metadata": {},
   "outputs": [
    {
     "name": "stdout",
     "output_type": "stream",
     "text": [
      "FIXED ACIDITY\n",
      "normalityTests(\"fixed acidity\")\n",
      "- Berdasarkan histogram di atas, kolom \"fixed acidity\" dapat dianggap berdistribusi normal karena histogramnya berbentuk *bell-shaped* yang simetris. *Skewness*-nya juga berada di antara -0.5 dan 0.5 (*skewness* = -0.028878575532660055, -0.5 < -0.028878575532660055 < 0.5), yang menandakan bahwa histogram di atas simetris. *Excess kurtosis*-nya juga berada di antara -0.5 dan 0.5 (*excess kurtosis* = -0.019292120932933532, -0.5 < -0.019292120932933532 < 0.5), yang menandakan bahwa histogram di atas memiliki keruncingan distribusi normal.\n",
      "- Berdasarkan D'Agustino-Pearson Test, kolom \"fixed acidity\" dapat dianggap berdistribusi normal karena Nilai P-nya lebih dari 0.05 (Nilai P = 0.9308584274486692 > 0.05).\n",
      "- Berdasarkan Shapiro-Wilk Test, kolom \"fixed acidity\" dapat dianggap berdistribusi normal karena Nilai P-nya lebih dari 0.05 (Nilai P = 0.8935267925262451 > 0.05).\n",
      "\n",
      "VOLATILE ACIDITY\n",
      "normalityTests(\"volatile acidity\")\n",
      "- Berdasarkan histogram di atas, kolom \"volatile acidity\" dapat dianggap berdistribusi normal karena histogramnya berbentuk *bell-shaped* yang simetris. *Skewness*-nya juga berada di antara -0.5 dan 0.5 (*skewness* = -0.1976986986092083, -0.5 < -0.1976986986092083 < 0.5), yang menandakan bahwa histogram di atas simetris. *Excess kurtosis*-nya juga berada di antara -0.5 dan 0.5 (*excess kurtosis* = 0.16185290336961788, -0.5 < 0.16185290336961788 < 0.5), yang menandakan bahwa histogram di atas memiliki keruncingan distribusi normal.\n",
      "- Berdasarkan D'Agustino-Pearson Test, kolom \"volatile acidity\" tidak dapat dianggap berdistribusi normal karena Nilai P-nya tidak lebih dari 0.05 (Nilai P = 0.022581461594113835 <= 0.05).\n",
      "- Berdasarkan Shapiro-Wilk Test, kolom \"volatile acidity\" dapat dianggap berdistribusi normal karena Nilai P-nya lebih dari 0.05 (Nilai P = 0.05993043631315231 > 0.05).\n",
      "\n",
      "CITRIC ACID\n",
      "normalityTests(\"citric acid\")\n",
      "- Berdasarkan histogram di atas, kolom \"citric acid\" dapat dianggap berdistribusi normal karena histogramnya berbentuk *bell-shaped* yang simetris. *Skewness*-nya juga berada di antara -0.5 dan 0.5 (*skewness* = -0.045576058685017296, -0.5 < -0.045576058685017296 < 0.5), yang menandakan bahwa histogram di atas simetris. *Excess kurtosis*-nya juga berada di antara -0.5 dan 0.5 (*excess kurtosis* = -0.1046792495951605, -0.5 < -0.1046792495951605 < 0.5), yang menandakan bahwa histogram di atas memiliki keruncingan distribusi normal.\n",
      "- Berdasarkan D'Agustino-Pearson Test, kolom \"citric acid\" dapat dianggap berdistribusi normal karena Nilai P-nya lebih dari 0.05 (Nilai P = 0.6816899375976969 > 0.05).\n",
      "- Berdasarkan Shapiro-Wilk Test, kolom \"citric acid\" dapat dianggap berdistribusi normal karena Nilai P-nya lebih dari 0.05 (Nilai P = 0.26522907614707947 > 0.05).\n",
      "\n",
      "RESIDUAL SUGAR\n",
      "normalityTests(\"residual sugar\")\n",
      "- Berdasarkan histogram di atas, kolom \"residual sugar\" dapat dianggap berdistribusi normal karena histogramnya berbentuk *bell-shaped* yang simetris. *Skewness*-nya juga berada di antara -0.5 dan 0.5 (*skewness* = 0.13263808618992312, -0.5 < 0.13263808618992312 < 0.5), yang menandakan bahwa histogram di atas simetris. *Excess kurtosis*-nya juga berada di antara -0.5 dan 0.5 (*excess kurtosis* = -0.04298003436476261, -0.5 < -0.04298003436476261 < 0.5), yang menandakan bahwa histogram di atas memiliki keruncingan distribusi normal.\n",
      "- Berdasarkan D'Agustino-Pearson Test, kolom \"residual sugar\" dapat dianggap berdistribusi normal karena Nilai P-nya lebih dari 0.05 (Nilai P = 0.22466703321310558 > 0.05).\n",
      "- Berdasarkan Shapiro-Wilk Test, kolom \"residual sugar\" tidak dapat dianggap berdistribusi normal karena Nilai P-nya tidak lebih dari 0.05 (Nilai P = 0.044918645173311234 <= 0.05).\n",
      "\n",
      "CHLORIDES\n",
      "normalityTests(\"chlorides\")\n",
      "- Berdasarkan histogram di atas, kolom \"chlorides\" dapat dianggap berdistribusi normal karena histogramnya berbentuk *bell-shaped* yang simetris. *Skewness*-nya juga berada di antara -0.5 dan 0.5 (*skewness* = -0.05131929742072573, -0.5 < -0.05131929742072573 < 0.5), yang menandakan bahwa histogram di atas simetris. *Excess kurtosis*-nya juga berada di antara -0.5 dan 0.5 (*excess kurtosis* = -0.2465081359240382, -0.5 < -0.2465081359240382 < 0.5), yang menandakan bahwa histogram di atas memiliki keruncingan distribusi normal.\n",
      "- Berdasarkan D'Agustino-Pearson Test, kolom \"chlorides\" dapat dianggap berdistribusi normal karena Nilai P-nya lebih dari 0.05 (Nilai P = 0.17048274704296862 > 0.05).\n",
      "- Berdasarkan Shapiro-Wilk Test, kolom \"chlorides\" dapat dianggap berdistribusi normal karena Nilai P-nya lebih dari 0.05 (Nilai P = 0.17465530335903168 > 0.05).\n",
      "\n",
      "FREE SULFUR DIOXIDE\n",
      "normalityTests(\"free sulfur dioxide\")\n",
      "- Berdasarkan histogram di atas, kolom \"free sulfur dioxide\" dapat dianggap berdistribusi normal karena histogramnya berbentuk *bell-shaped* yang simetris. *Skewness*-nya juga berada di antara -0.5 dan 0.5 (*skewness* = 0.007130415991143398, -0.5 < 0.007130415991143398 < 0.5), yang menandakan bahwa histogram di atas simetris. *Excess kurtosis*-nya juga berada di antara -0.5 dan 0.5 (*excess kurtosis* = -0.36496364342685306, -0.5 < -0.36496364342685306 < 0.5), yang menandakan bahwa histogram di atas memiliki keruncingan distribusi normal.\n",
      "- Berdasarkan D'Agustino-Pearson Test, kolom \"free sulfur dioxide\" tidak dapat dianggap berdistribusi normal karena Nilai P-nya tidak lebih dari 0.05 (Nilai P = 0.01743043451827735 <= 0.05).\n",
      "- Berdasarkan Shapiro-Wilk Test, kolom \"free sulfur dioxide\" tidak dapat dianggap berdistribusi normal karena Nilai P-nya tidak lebih dari 0.05 (Nilai P = 0.04255827143788338 <= 0.05).\n",
      "\n",
      "TOTAL SULFUR DIOXIDE\n",
      "normalityTests(\"total sulfur dioxide\")\n",
      "- Berdasarkan histogram di atas, kolom \"total sulfur dioxide\" dapat dianggap berdistribusi normal karena histogramnya berbentuk *bell-shaped* yang simetris. *Skewness*-nya juga berada di antara -0.5 dan 0.5 (*skewness* = -0.024060026812269975, -0.5 < -0.024060026812269975 < 0.5), yang menandakan bahwa histogram di atas simetris. *Excess kurtosis*-nya juga berada di antara -0.5 dan 0.5 (*excess kurtosis* = 0.06394978916172311, -0.5 < 0.06394978916172311 < 0.5), yang menandakan bahwa histogram di atas memiliki keruncingan distribusi normal.\n",
      "- Berdasarkan D'Agustino-Pearson Test, kolom \"total sulfur dioxide\" dapat dianggap berdistribusi normal karena Nilai P-nya lebih dari 0.05 (Nilai P = 0.8488846101395726 > 0.05).\n",
      "- Berdasarkan Shapiro-Wilk Test, kolom \"total sulfur dioxide\" dapat dianggap berdistribusi normal karena Nilai P-nya lebih dari 0.05 (Nilai P = 0.5367269515991211 > 0.05).\n",
      "\n",
      "DENSITY\n",
      "normalityTests(\"density\")\n",
      "- Berdasarkan histogram di atas, kolom \"density\" dapat dianggap berdistribusi normal karena histogramnya berbentuk *bell-shaped* yang simetris. *Skewness*-nya juga berada di antara -0.5 dan 0.5 (*skewness* = -0.07688278915513917, -0.5 < -0.07688278915513917 < 0.5), yang menandakan bahwa histogram di atas simetris. *Excess kurtosis*-nya juga berada di antara -0.5 dan 0.5 (*excess kurtosis* = 0.01636562128503849, -0.5 < 0.01636562128503849 < 0.5), yang menandakan bahwa histogram di atas memiliki keruncingan distribusi normal.\n",
      "- Berdasarkan D'Agustino-Pearson Test, kolom \"density\" dapat dianggap berdistribusi normal karena Nilai P-nya lebih dari 0.05 (Nilai P = 0.5985227325531981 > 0.05).\n",
      "- Berdasarkan Shapiro-Wilk Test, kolom \"density\" dapat dianggap berdistribusi normal karena Nilai P-nya lebih dari 0.05 (Nilai P = 0.8533204793930054 > 0.05).\n",
      "\n",
      "PH\n",
      "normalityTests(\"pH\")\n",
      "- Berdasarkan histogram di atas, kolom \"pH\" dapat dianggap berdistribusi normal karena histogramnya berbentuk *bell-shaped* yang simetris. *Skewness*-nya juga berada di antara -0.5 dan 0.5 (*skewness* = 0.14767259510827038, -0.5 < 0.14767259510827038 < 0.5), yang menandakan bahwa histogram di atas simetris. *Excess kurtosis*-nya juga berada di antara -0.5 dan 0.5 (*excess kurtosis* = 0.0809095518741838, -0.5 < 0.0809095518741838 < 0.5), yang menandakan bahwa histogram di atas memiliki keruncingan distribusi normal.\n",
      "- Berdasarkan D'Agustino-Pearson Test, kolom \"pH\" dapat dianggap berdistribusi normal karena Nilai P-nya lebih dari 0.05 (Nilai P = 0.13678740824860436 > 0.05).\n",
      "- Berdasarkan Shapiro-Wilk Test, kolom \"pH\" dapat dianggap berdistribusi normal karena Nilai P-nya lebih dari 0.05 (Nilai P = 0.13713516294956207 > 0.05).\n",
      "\n",
      "SULPHATES\n",
      "normalityTests(\"sulphates\")\n",
      "- Berdasarkan histogram di atas, kolom \"sulphates\" dapat dianggap berdistribusi normal karena histogramnya berbentuk *bell-shaped* yang simetris. *Skewness*-nya juga berada di antara -0.5 dan 0.5 (*skewness* = 0.1491989008699043, -0.5 < 0.1491989008699043 < 0.5), yang menandakan bahwa histogram di atas simetris. *Excess kurtosis*-nya juga berada di antara -0.5 dan 0.5 (*excess kurtosis* = 0.06481928180859686, -0.5 < 0.06481928180859686 < 0.5), yang menandakan bahwa histogram di atas memiliki keruncingan distribusi normal.\n",
      "- Berdasarkan D'Agustino-Pearson Test, kolom \"sulphates\" dapat dianggap berdistribusi normal karena Nilai P-nya lebih dari 0.05 (Nilai P = 0.13884318628391681 > 0.05).\n",
      "- Berdasarkan Shapiro-Wilk Test, kolom \"sulphates\" dapat dianggap berdistribusi normal karena Nilai P-nya lebih dari 0.05 (Nilai P = 0.11214283108711243 > 0.05).\n",
      "\n",
      "ALCOHOL\n",
      "normalityTests(\"alcohol\")\n",
      "- Berdasarkan histogram di atas, kolom \"alcohol\" dapat dianggap berdistribusi normal karena histogramnya berbentuk *bell-shaped* yang simetris. *Skewness*-nya juga berada di antara -0.5 dan 0.5 (*skewness* = -0.01899140432111647, -0.5 < -0.01899140432111647 < 0.5), yang menandakan bahwa histogram di atas simetris. *Excess kurtosis*-nya juga berada di antara -0.5 dan 0.5 (*excess kurtosis* = -0.13173155932281988, -0.5 < -0.13173155932281988 < 0.5), yang menandakan bahwa histogram di atas memiliki keruncingan distribusi normal.\n",
      "- Berdasarkan D'Agustino-Pearson Test, kolom \"alcohol\" dapat dianggap berdistribusi normal karena Nilai P-nya lebih dari 0.05 (Nilai P = 0.6790884901361043 > 0.05).\n",
      "- Berdasarkan Shapiro-Wilk Test, kolom \"alcohol\" dapat dianggap berdistribusi normal karena Nilai P-nya lebih dari 0.05 (Nilai P = 0.519870400428772 > 0.05).\n",
      "\n",
      "QUALITY\n",
      "normalityTests(\"quality\")\n",
      "- Berdasarkan histogram di atas, kolom \"quality\" dapat dianggap berdistribusi normal karena histogramnya berbentuk *bell-shaped* yang simetris. *Skewness*-nya juga berada di antara -0.5 dan 0.5 (*skewness* = -0.08905409122491781, -0.5 < -0.08905409122491781 < 0.5), yang menandakan bahwa histogram di atas simetris. *Excess kurtosis*-nya juga berada di antara -0.5 dan 0.5 (*excess kurtosis* = 0.10829100232871003, -0.5 < 0.10829100232871003 < 0.5), yang menandakan bahwa histogram di atas memiliki keruncingan distribusi normal.\n",
      "- Berdasarkan D'Agustino-Pearson Test, kolom \"quality\" dapat dianggap berdistribusi normal karena Nilai P-nya lebih dari 0.05 (Nilai P = 0.3888139394184818 > 0.05).\n",
      "- Berdasarkan Shapiro-Wilk Test, kolom \"quality\" tidak dapat dianggap berdistribusi normal karena Nilai P-nya tidak lebih dari 0.05 (Nilai P = 1.6663848458082077e-25 <= 0.05).\n",
      "\n"
     ]
    }
   ],
   "source": [
    "# buat markdown kalo males\n",
    "def printAll(colName):\n",
    "    data = dataAnggur[colName]\n",
    "    print(colName.upper())\n",
    "    print(f\"normalityTests(\\\"{colName}\\\")\")\n",
    "    absSkThreshold = 0.5\n",
    "    absKurtThreshold = 0.5\n",
    "    alpha = 0.05\n",
    "    \n",
    "    sk = data.skew()\n",
    "    kurt = data.kurt()\n",
    "\n",
    "    # karna semuanya bell curve\n",
    "    # silakan benerin\n",
    "    print(f\"- Berdasarkan histogram di atas, kolom \\\"{colName}\\\" dapat dianggap berdistribusi normal karena histogramnya berbentuk *bell-shaped* yang simetris. \", end = \"\")\n",
    "    print(f\"*Skewness*-nya juga berada di antara -{absSkThreshold} dan {absSkThreshold} (*skewness* = {sk}, -{absSkThreshold} < {sk} < {absSkThreshold}), yang menandakan bahwa histogram di atas simetris. \", end = \"\")\n",
    "    print(f\"*Excess kurtosis*-nya juga berada di antara -{absKurtThreshold} dan {absKurtThreshold} (*excess kurtosis* = {kurt}, -{absKurtThreshold} < {kurt} < {absKurtThreshold}), yang menandakan bahwa histogram di atas memiliki keruncingan distribusi normal.\")\n",
    "    # jarque-bera test\n",
    "    _, p = st.normaltest(data)\n",
    "    print(f\"- Berdasarkan D'Agustino-Pearson Test, kolom \\\"{colName}\\\" \", end = \"\")\n",
    "    if (p > alpha):\n",
    "        print(f\"dapat dianggap berdistribusi normal karena Nilai P-nya lebih dari {alpha} (Nilai P = {p} > {alpha}).\")\n",
    "    else:\n",
    "        print(f\"tidak dapat dianggap berdistribusi normal karena Nilai P-nya tidak lebih dari {alpha} (Nilai P = {p} <= {alpha}).\")\n",
    "        \n",
    "    # Shapiro-Wilk Test\n",
    "    _, p = stats.shapiro(data)\n",
    "    print(f\"- Berdasarkan Shapiro-Wilk Test, kolom \\\"{colName}\\\" \", end = \"\")\n",
    "    if (p > alpha):\n",
    "        print(f\"dapat dianggap berdistribusi normal karena Nilai P-nya lebih dari {alpha} (Nilai P = {p} > {alpha}).\")\n",
    "    else:\n",
    "        print(f\"tidak dapat dianggap berdistribusi normal karena Nilai P-nya tidak lebih dari {alpha} (Nilai P = {p} <= {alpha}).\")\n",
    "        \n",
    "# print all md\n",
    "for col in dataAnggur:\n",
    "    printAll(col)\n",
    "    print()"
   ]
  },
  {
   "attachments": {},
   "cell_type": "markdown",
   "metadata": {},
   "source": [
    "### Fungsi Wrapper Normality Test"
   ]
  },
  {
   "cell_type": "code",
   "execution_count": 31,
   "metadata": {},
   "outputs": [],
   "source": [
    "def normalityTests(colName):\n",
    "    dataCol = dataAnggur[colName]\n",
    "    # Create histogram\n",
    "    # kalo histogram mau dibuat custom style beda2 tiap kolom, bisa pake global dictionary\n",
    "    plt.hist(dataCol)\n",
    "    plt.show() \n",
    "    \n",
    "    # Check skewness\n",
    "    print(\"Skewness: \" , dataCol.skew())\n",
    "    \n",
    "    # Check kurtosis\n",
    "    print(\"\\nKurtosis: \", dataCol.kurtosis())\n",
    "    \n",
    "    # Jarque bera Test\n",
    "    print(\"\\nD'Agustino-Pearson Test\")\n",
    "    stat, p = st.normaltest(dataCol)\n",
    "    print(\"Test, p-value = \", stat, \", \", p)\n",
    "\n",
    "    # Shapiro-Wilk Test\n",
    "    print(\"\\nShapiro-Wilk Test\")\n",
    "    stat, p = stats.shapiro(dataCol)\n",
    "    print(\"Test, p-value = \", stat, \", \", p)"
   ]
  },
  {
   "attachments": {},
   "cell_type": "markdown",
   "metadata": {},
   "source": [
    "## Hasil Tes Normalitas"
   ]
  },
  {
   "attachments": {},
   "cell_type": "markdown",
   "metadata": {},
   "source": [
    "### 1. fixed acidity"
   ]
  },
  {
   "cell_type": "code",
   "execution_count": 32,
   "metadata": {},
   "outputs": [
    {
     "data": {
      "image/png": "[encoded data removed]",
      "text/plain": [
       "<Figure size 640x480 with 1 Axes>"
      ]
     },
     "metadata": {},
     "output_type": "display_data"
    },
    {
     "name": "stdout",
     "output_type": "stream",
     "text": [
      "Skewness:  -0.028878575532660055\n",
      "\n",
      "Kurtosis:  -0.019292120932933532\n",
      "\n",
      "D'Agustino-Pearson Test\n",
      "Test, p-value =  0.14329615661430725 ,  0.9308584274486692\n",
      "\n",
      "Shapiro-Wilk Test\n",
      "Test, p-value =  0.9990411400794983 ,  0.8935267925262451\n"
     ]
    }
   ],
   "source": [
    "# FIXED ACIDITY\n",
    "normalityTests(\"fixed acidity\")"
   ]
  },
  {
   "attachments": {},
   "cell_type": "markdown",
   "metadata": {},
   "source": [
    "#### Hasil Tes\n",
    "- Berdasarkan histogram di atas, kolom \"fixed acidity\" dapat dianggap berdistribusi normal karena histogramnya berbentuk *bell-shaped* yang simetris. *Skewness*-nya juga berada di antara -0.5 dan 0.5 (*skewness* = -0.0288, -0.5 < -0.0288 < 0.5), yang menandakan bahwa histogram di atas simetris. *Excess kurtosis*-nya juga berada di antara -0.5 dan 0.5 (*excess kurtosis* = -0.0192, -0.5 < -0.0192 < 0.5), yang menandakan bahwa histogram di atas memiliki keruncingan distribusi normal.\n",
    "- Berdasarkan D'Agustino-Pearson Test, kolom \"fixed acidity\" dapat dianggap berdistribusi normal karena Nilai P-nya lebih dari 0.05 (Nilai P = 0.9308 > 0.05).\n",
    "- Berdasarkan Shapiro-Wilk Test, kolom \"fixed acidity\" dapat dianggap berdistribusi normal karena Nilai P-nya lebih dari 0.05 (Nilai P = 0.8935 > 0.05).\n",
    "\n",
    "#### Kesimpulan\n",
    "Berdasarkan tes normalitas yang dilakukan di atas, kolom fixed acidity berdistribusi normal."
   ]
  },
  {
   "attachments": {},
   "cell_type": "markdown",
   "metadata": {},
   "source": [
    "### 2. volatile acidity"
   ]
  },
  {
   "cell_type": "code",
   "execution_count": 33,
   "metadata": {},
   "outputs": [
    {
     "data": {
      "image/png": "[encoded data removed]",
      "text/plain": [
       "<Figure size 640x480 with 1 Axes>"
      ]
     },
     "metadata": {},
     "output_type": "display_data"
    },
    {
     "name": "stdout",
     "output_type": "stream",
     "text": [
      "Skewness:  -0.1976986986092083\n",
      "\n",
      "Kurtosis:  0.16185290336961788\n",
      "\n",
      "D'Agustino-Pearson Test\n",
      "Test, p-value =  7.581251985533493 ,  0.022581461594113835\n",
      "\n",
      "Shapiro-Wilk Test\n",
      "Test, p-value =  0.997028648853302 ,  0.05993043631315231\n"
     ]
    }
   ],
   "source": [
    "normalityTests(\"volatile acidity\")"
   ]
  },
  {
   "attachments": {},
   "cell_type": "markdown",
   "metadata": {},
   "source": [
    "#### Hasil Tes\n",
    "- Berdasarkan histogram di atas, kolom \"volatile acidity\" dapat dianggap berdistribusi normal karena histogramnya berbentuk *bell-shaped* yang simetris. Walaupun begitu, sekilas histogramnya terlihat *negatively skewed*. *Skewness*-nya juga berada di antara -0.5 dan 0.5 (*skewness* = -0.1976, -0.5 < -0.1976 < 0.5), yang menandakan bahwa histogram di atas simetris. *Excess kurtosis*-nya juga berada di antara -0.5 dan 0.5 (*excess kurtosis* = 0.1618, -0.5 < 0.1618 < 0.5), yang menandakan bahwa histogram di atas memiliki keruncingan distribusi normal.\n",
    "- Berdasarkan D'Agustino-Pearson Test, kolom \"volatile acidity\" tidak dapat dianggap berdistribusi normal karena Nilai P-nya tidak lebih dari 0.05 (Nilai P = 0.0225 <= 0.05). \n",
    "- Berdasarkan Shapiro-Wilk Test, kolom \"volatile acidity\" dapat dianggap berdistribusi normal karena Nilai P-nya lebih dari 0.05 (Nilai P = 0.0599 > 0.05).\n",
    "\n",
    "Terdapat perbedaan hasil tes diantara D'Agustino-Pearson Test dan Shapiro-Wilk Test karena nilai P dianggap berada dalam perbatasan normalitas.\n",
    "\n",
    "#### Kesimpulan\n",
    "Berdasarkan tes normalitas yang dilakukan di atas, kolom fixed acidity tidak berdistribusi normal."
   ]
  },
  {
   "attachments": {},
   "cell_type": "markdown",
   "metadata": {},
   "source": [
    "### 3. citric acid"
   ]
  },
  {
   "cell_type": "code",
   "execution_count": 34,
   "metadata": {},
   "outputs": [
    {
     "data": {
      "image/png": "[encoded data removed]",
      "text/plain": [
       "<Figure size 640x480 with 1 Axes>"
      ]
     },
     "metadata": {},
     "output_type": "display_data"
    },
    {
     "name": "stdout",
     "output_type": "stream",
     "text": [
      "Skewness:  -0.045576058685017296\n",
      "\n",
      "Kurtosis:  -0.1046792495951605\n",
      "\n",
      "D'Agustino-Pearson Test\n",
      "Test, p-value =  0.7663607229418252 ,  0.6816899375976969\n",
      "\n",
      "Shapiro-Wilk Test\n",
      "Test, p-value =  0.9979573488235474 ,  0.26522907614707947\n"
     ]
    }
   ],
   "source": [
    "normalityTests(\"citric acid\")"
   ]
  },
  {
   "attachments": {},
   "cell_type": "markdown",
   "metadata": {},
   "source": [
    "#### Hasil Tes\n",
    "- Berdasarkan histogram di atas, kolom \"citric acid\" dapat dianggap berdistribusi normal karena histogramnya berbentuk *bell-shaped* yang simetris. *Skewness*-nya juga berada di antara -0.5 dan 0.5 (*skewness* = -0.0455, -0.5 < -0.0455 < 0.5), yang menandakan bahwa histogram di atas simetris. *Excess kurtosis*-nya juga berada di antara -0.5 dan 0.5 (*excess kurtosis* = -0.1046, -0.5 < -0.1046 < 0.5), yang menandakan bahwa histogram di atas memiliki keruncingan distribusi normal.\n",
    "- Berdasarkan D'Agustino-Pearson Test, kolom \"citric acid\" dapat dianggap berdistribusi normal karena Nilai P-nya lebih dari 0.05 (Nilai P = 0.6816 > 0.05).\n",
    "- Berdasarkan Shapiro-Wilk Test, kolom \"citric acid\" dapat dianggap berdistribusi normal karena Nilai P-nya lebih dari 0.05 (Nilai P = 0.2652 > 0.05).\n",
    "\n",
    "#### Kesimpulan\n",
    "Berdasarkan tes normalitas yang dilakukan di atas, kolom citric acid berdistribusi normal."
   ]
  },
  {
   "attachments": {},
   "cell_type": "markdown",
   "metadata": {},
   "source": [
    "### 4. residual sugar"
   ]
  },
  {
   "cell_type": "code",
   "execution_count": 35,
   "metadata": {},
   "outputs": [
    {
     "data": {
      "image/png": "[encoded data removed]",
      "text/plain": [
       "<Figure size 640x480 with 1 Axes>"
      ]
     },
     "metadata": {},
     "output_type": "display_data"
    },
    {
     "name": "stdout",
     "output_type": "stream",
     "text": [
      "Skewness:  0.13263808618992312\n",
      "\n",
      "Kurtosis:  -0.04298003436476261\n",
      "\n",
      "D'Agustino-Pearson Test\n",
      "Test, p-value =  2.9862716504538622 ,  0.22466703321310558\n",
      "\n",
      "Shapiro-Wilk Test\n",
      "Test, p-value =  0.9968547224998474 ,  0.044918645173311234\n"
     ]
    }
   ],
   "source": [
    "normalityTests(\"residual sugar\")"
   ]
  },
  {
   "attachments": {},
   "cell_type": "markdown",
   "metadata": {},
   "source": [
    "#### Hasil Tes\n",
    "- Berdasarkan histogram di atas, kolom \"residual sugar\" dapat dianggap berdistribusi normal karena histogramnya berbentuk *bell-shaped* yang simetris. *Skewness*-nya juga berada di antara -0.5 dan 0.5 (*skewness* = 0.1326, -0.5 < 0.1326 < 0.5), yang menandakan bahwa histogram di atas simetris. *Excess kurtosis*-nya juga berada di antara -0.5 dan 0.5 (*excess kurtosis* = -0.0429, -0.5 < -0.0429 < 0.5), yang menandakan bahwa histogram di atas memiliki keruncingan distribusi normal.\n",
    "- Berdasarkan D'Agustino-Pearson Test, kolom \"residual sugar\" dapat dianggap berdistribusi normal karena Nilai P-nya lebih dari 0.05 (Nilai P = 0.2246 > 0.05).\n",
    "- Berdasarkan Shapiro-Wilk Test, kolom \"residual sugar\" tidak dapat dianggap berdistribusi normal karena Nilai P-nya tidak lebih dari 0.05 (Nilai P = 0.0449 <= 0.05).\n",
    "\n",
    "Terdapat perbedaan hasil tes diantara D'Agustino-Pearson Test dan Shapiro-Wilk Test karena nilai P dianggap berada dalam perbatasan normalitas.\n",
    "\n",
    "\n",
    "#### Kesimpulan\n",
    "Berdasarkan tes normalitas yang dilakukan di atas, kolom residual sugar berdistribusi normal."
   ]
  },
  {
   "attachments": {},
   "cell_type": "markdown",
   "metadata": {},
   "source": [
    "### 5. chlorides"
   ]
  },
  {
   "cell_type": "code",
   "execution_count": 36,
   "metadata": {},
   "outputs": [
    {
     "data": {
      "image/png": "[encoded data removed]",
      "text/plain": [
       "<Figure size 640x480 with 1 Axes>"
      ]
     },
     "metadata": {},
     "output_type": "display_data"
    },
    {
     "name": "stdout",
     "output_type": "stream",
     "text": [
      "Skewness:  -0.05131929742072573\n",
      "\n",
      "Kurtosis:  -0.2465081359240382\n",
      "\n",
      "D'Agustino-Pearson Test\n",
      "Test, p-value =  3.538242355484952 ,  0.17048274704296862\n",
      "\n",
      "Shapiro-Wilk Test\n",
      "Test, p-value =  0.9976862072944641 ,  0.17465530335903168\n"
     ]
    }
   ],
   "source": [
    "normalityTests(\"chlorides\")"
   ]
  },
  {
   "attachments": {},
   "cell_type": "markdown",
   "metadata": {},
   "source": [
    "#### Hasil Tes\n",
    "- Berdasarkan histogram di atas, kolom \"chlorides\" dapat dianggap berdistribusi normal karena histogramnya berbentuk *bell-shaped* yang simetris. *Skewness*-nya juga berada di antara -0.5 dan 0.5 (*skewness* = -0.0513, -0.5 < -0.0513 < 0.5), yang menandakan bahwa histogram di atas simetris. *Excess kurtosis*-nya juga berada di antara -0.5 dan 0.5 (*excess kurtosis* = -0.2465, -0.5 < -0.2465 < 0.5), yang menandakan bahwa histogram di atas memiliki keruncingan distribusi normal.\n",
    "- Berdasarkan D'Agustino-Pearson Test, kolom \"chlorides\" dapat dianggap berdistribusi normal karena Nilai P-nya lebih dari 0.05 (Nilai P = 0.1704 > 0.05).\n",
    "- Berdasarkan Shapiro-Wilk Test, kolom \"chlorides\" dapat dianggap berdistribusi normal karena Nilai P-nya lebih dari 0.05 (Nilai P = 0.1746 > 0.05).\n",
    "\n",
    "#### Kesimpulan\n",
    "Berdasarkan tes normalitas yang dilakukan di atas, kolom chlorides (tidak) berdistribusi normal."
   ]
  },
  {
   "attachments": {},
   "cell_type": "markdown",
   "metadata": {},
   "source": [
    "### 6. free sulfur dioxide"
   ]
  },
  {
   "cell_type": "code",
   "execution_count": 37,
   "metadata": {},
   "outputs": [
    {
     "data": {
      "image/png": "[encoded data removed]",
      "text/plain": [
       "<Figure size 640x480 with 1 Axes>"
      ]
     },
     "metadata": {},
     "output_type": "display_data"
    },
    {
     "name": "stdout",
     "output_type": "stream",
     "text": [
      "Skewness:  0.007130415991143398\n",
      "\n",
      "Kurtosis:  -0.36496364342685306\n",
      "\n",
      "D'Agustino-Pearson Test\n",
      "Test, p-value =  8.099074980855514 ,  0.01743043451827735\n",
      "\n",
      "Shapiro-Wilk Test\n",
      "Test, p-value =  0.9968221783638 ,  0.04255827143788338\n"
     ]
    }
   ],
   "source": [
    "normalityTests(\"free sulfur dioxide\")"
   ]
  },
  {
   "attachments": {},
   "cell_type": "markdown",
   "metadata": {},
   "source": [
    "#### Hasil Tes\n",
    "- Berdasarkan histogram di atas, kolom \"free sulfur dioxide\" dapat dianggap berdistribusi normal karena histogramnya berbentuk *bell-shaped* yang simetris. *Skewness*-nya juga berada di antara -0.5 dan 0.5 (*skewness* = 0.0071, -0.5 < 0.0071 < 0.5), yang menandakan bahwa histogram di atas simetris. *Excess kurtosis*-nya juga berada di antara -0.5 dan 0.5 (*excess kurtosis* = -0.3649, -0.5 < -0.3649 < 0.5), yang menandakan bahwa histogram di atas memiliki keruncingan distribusi normal.\n",
    "- Berdasarkan D'Agustino-Pearson Test, kolom \"free sulfur dioxide\" tidak dapat dianggap berdistribusi normal karena Nilai P-nya tidak lebih dari 0.05 (Nilai P = 0.0174 <= 0.05).\n",
    "- Berdasarkan Shapiro-Wilk Test, kolom \"free sulfur dioxide\" tidak dapat dianggap berdistribusi normal karena Nilai P-nya tidak lebih dari 0.05 (Nilai P = 0.0425 <= 0.05).\n",
    "\n",
    "#### Kesimpulan\n",
    "Berdasarkan tes normalitas yang dilakukan di atas, kolom free sulfur dioxide tidak berdistribusi normal."
   ]
  },
  {
   "attachments": {},
   "cell_type": "markdown",
   "metadata": {},
   "source": [
    "### 7. total sulfur dioxide"
   ]
  },
  {
   "cell_type": "code",
   "execution_count": 38,
   "metadata": {},
   "outputs": [
    {
     "data": {
      "image/png": "[encoded data removed]",
      "text/plain": [
       "<Figure size 640x480 with 1 Axes>"
      ]
     },
     "metadata": {},
     "output_type": "display_data"
    },
    {
     "name": "stdout",
     "output_type": "stream",
     "text": [
      "Skewness:  -0.024060026812269975\n",
      "\n",
      "Kurtosis:  0.06394978916172311\n",
      "\n",
      "D'Agustino-Pearson Test\n",
      "Test, p-value =  0.3276640291639825 ,  0.8488846101395726\n",
      "\n",
      "Shapiro-Wilk Test\n",
      "Test, p-value =  0.9984723925590515 ,  0.5367269515991211\n"
     ]
    }
   ],
   "source": [
    "normalityTests(\"total sulfur dioxide\")"
   ]
  },
  {
   "attachments": {},
   "cell_type": "markdown",
   "metadata": {},
   "source": [
    "Berdasarkan tes normalitas yang dilakukan di atas, kolom total sulfur dioxide berdistribusi normal karena memiliki nilai *skewness* sebesar -0.02. Hal ini juga tercermin pada plot histogram yang memiliki bentuk *bell-shaped*."
   ]
  },
  {
   "attachments": {},
   "cell_type": "markdown",
   "metadata": {},
   "source": [
    "### 8. density"
   ]
  },
  {
   "cell_type": "code",
   "execution_count": 39,
   "metadata": {},
   "outputs": [
    {
     "data": {
      "image/png": "[encoded data removed]",
      "text/plain": [
       "<Figure size 640x480 with 1 Axes>"
      ]
     },
     "metadata": {},
     "output_type": "display_data"
    },
    {
     "name": "stdout",
     "output_type": "stream",
     "text": [
      "Skewness:  -0.07688278915513917\n",
      "\n",
      "Kurtosis:  0.01636562128503849\n",
      "\n",
      "D'Agustino-Pearson Test\n",
      "Test, p-value =  1.026581544320803 ,  0.5985227325531981\n",
      "\n",
      "Shapiro-Wilk Test\n",
      "Test, p-value =  0.9989627003669739 ,  0.8533204793930054\n"
     ]
    }
   ],
   "source": [
    "normalityTests(\"density\")"
   ]
  },
  {
   "attachments": {},
   "cell_type": "markdown",
   "metadata": {},
   "source": [
    "Berdasarkan tes normalitas yang dilakukan di atas, kolom fixed density (tidak) berdistribusi normal karena ..."
   ]
  },
  {
   "attachments": {},
   "cell_type": "markdown",
   "metadata": {},
   "source": [
    "### 9. pH"
   ]
  },
  {
   "cell_type": "code",
   "execution_count": 40,
   "metadata": {},
   "outputs": [
    {
     "data": {
      "image/png": "[encoded data removed]",
      "text/plain": [
       "<Figure size 640x480 with 1 Axes>"
      ]
     },
     "metadata": {},
     "output_type": "display_data"
    },
    {
     "name": "stdout",
     "output_type": "stream",
     "text": [
      "Skewness:  0.14767259510827038\n",
      "\n",
      "Kurtosis:  0.0809095518741838\n",
      "\n",
      "D'Agustino-Pearson Test\n",
      "Test, p-value =  3.9786546459928545 ,  0.13678740824860436\n",
      "\n",
      "Shapiro-Wilk Test\n",
      "Test, p-value =  0.997534453868866 ,  0.13713516294956207\n"
     ]
    }
   ],
   "source": [
    "normalityTests(\"pH\")"
   ]
  },
  {
   "attachments": {},
   "cell_type": "markdown",
   "metadata": {},
   "source": [
    "Berdasarkan tes normalitas yang dilakukan di atas, kolom pH (tidak) berdistribusi normal karena ..."
   ]
  },
  {
   "attachments": {},
   "cell_type": "markdown",
   "metadata": {},
   "source": [
    "### 10. sulphates"
   ]
  },
  {
   "cell_type": "code",
   "execution_count": 41,
   "metadata": {},
   "outputs": [
    {
     "data": {
      "image/png": "[encoded data removed]",
      "text/plain": [
       "<Figure size 640x480 with 1 Axes>"
      ]
     },
     "metadata": {},
     "output_type": "display_data"
    },
    {
     "name": "stdout",
     "output_type": "stream",
     "text": [
      "Skewness:  0.1491989008699043\n",
      "\n",
      "Kurtosis:  0.06481928180859686\n",
      "\n",
      "D'Agustino-Pearson Test\n",
      "Test, p-value =  3.948820277859041 ,  0.13884318628391681\n",
      "\n",
      "Shapiro-Wilk Test\n",
      "Test, p-value =  0.997409999370575 ,  0.11214283108711243\n"
     ]
    }
   ],
   "source": [
    "normalityTests(\"sulphates\")"
   ]
  },
  {
   "attachments": {},
   "cell_type": "markdown",
   "metadata": {},
   "source": [
    "Berdasarkan tes normalitas yang dilakukan di atas, kolom sulphates (tidak) berdistribusi normal karena ..."
   ]
  },
  {
   "attachments": {},
   "cell_type": "markdown",
   "metadata": {},
   "source": [
    "### 11. alcohol"
   ]
  },
  {
   "cell_type": "code",
   "execution_count": 42,
   "metadata": {},
   "outputs": [
    {
     "data": {
      "image/png": "[encoded data removed]",
      "text/plain": [
       "<Figure size 640x480 with 1 Axes>"
      ]
     },
     "metadata": {},
     "output_type": "display_data"
    },
    {
     "name": "stdout",
     "output_type": "stream",
     "text": [
      "Skewness:  -0.01899140432111647\n",
      "\n",
      "Kurtosis:  -0.13173155932281988\n",
      "\n",
      "D'Agustino-Pearson Test\n",
      "Test, p-value =  0.7740076714171271 ,  0.6790884901361043\n",
      "\n",
      "Shapiro-Wilk Test\n",
      "Test, p-value =  0.9984460473060608 ,  0.519870400428772\n"
     ]
    }
   ],
   "source": [
    "normalityTests(\"alcohol\")"
   ]
  },
  {
   "attachments": {},
   "cell_type": "markdown",
   "metadata": {},
   "source": [
    "Berdasarkan tes normalitas yang dilakukan di atas, kolom alcohol (tidak) berdistribusi normal karena ..."
   ]
  },
  {
   "attachments": {},
   "cell_type": "markdown",
   "metadata": {},
   "source": [
    "### 12. quality"
   ]
  },
  {
   "cell_type": "code",
   "execution_count": 43,
   "metadata": {},
   "outputs": [
    {
     "data": {
      "image/png": "[encoded data removed]",
      "text/plain": [
       "<Figure size 640x480 with 1 Axes>"
      ]
     },
     "metadata": {},
     "output_type": "display_data"
    },
    {
     "name": "stdout",
     "output_type": "stream",
     "text": [
      "Skewness:  -0.08905409122491781\n",
      "\n",
      "Kurtosis:  0.10829100232871003\n",
      "\n",
      "D'Agustino-Pearson Test\n",
      "Test, p-value =  1.8893087092494893 ,  0.3888139394184818\n",
      "\n",
      "Shapiro-Wilk Test\n",
      "Test, p-value =  0.895503044128418 ,  1.6663848458082077e-25\n"
     ]
    }
   ],
   "source": [
    "normalityTests(\"quality\")"
   ]
  },
  {
   "attachments": {},
   "cell_type": "markdown",
   "metadata": {},
   "source": [
    "Berdasarkan tes normalitas yang dilakukan di atas, kolom quality (tidak) berdistribusi normal karena ..."
   ]
  }
 ],
 "metadata": {
  "kernelspec": {
   "display_name": "Python 3",
   "language": "python",
   "name": "python3"
  },
  "language_info": {
   "codemirror_mode": {
    "name": "ipython",
    "version": 3
   },
   "file_extension": ".py",
   "mimetype": "text/x-python",
   "name": "python",
   "nbconvert_exporter": "python",
   "pygments_lexer": "ipython3",
   "version": "3.11.2"
  },
  "orig_nbformat": 4,
  "vscode": {
   "interpreter": {
    "hash": "aee8b7b246df8f9039afb4144a1f6fd8d2ca17a180786b69acc140d282b71a49"
   }
  }
 },
 "nbformat": 4,
 "nbformat_minor": 2
}
