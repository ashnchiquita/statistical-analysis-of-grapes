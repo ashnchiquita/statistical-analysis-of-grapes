{
 "cells": [
  {
   "cell_type": "code",
   "execution_count": 32,
   "metadata": {},
   "outputs": [],
   "source": [
    "import pandas as pd\n",
    "import matplotlib.pyplot as plt\n",
    "import scipy.stats as st\n",
    "from statsmodels.stats.weightstats import ztest\n",
    "from statsmodels.stats.proportion import proportions_ztest\n",
    "\n",
    "dataAnggur = pd.read_csv('../data/anggur.csv')"
   ]
  },
  {
   "attachments": {},
   "cell_type": "markdown",
   "metadata": {},
   "source": [
    "Melakukan test hipotesis 2 sampel,"
   ]
  },
  {
   "attachments": {},
   "cell_type": "markdown",
   "metadata": {},
   "source": [
    "### a. Data kolom fixed acidity dibagi 2 sama rata: bagian awal dan bagian akhir kolom. Benarkah rata-rata kedua bagian tersebut sama?"
   ]
  },
  {
   "attachments": {},
   "cell_type": "markdown",
   "metadata": {},
   "source": [
    "#### Hipotesis\n",
    "Misalkan 1 melambangkan bagian awal kolom fixed acidity dan 2 melambangkan bagian akhir kolom fixed acidity.\\\n",
    "$H_0$ : Rata-rata kedua bagian sama $(μ_1 = μ_2$ &#8660; $μ_1 - μ_2 = 0)$\\\n",
    "$H_1$ : Rata-rata kedua bagian berbeda $(μ_1 \\neq μ_2$ &#8660; $μ_1 - μ_2 \\neq 0)$\\\n",
    "Dari kalimat soal, kita dapat menganggap bahwa klaimnya adalah $H_0$.\n",
    "\n",
    "#### Tingkat Signifikansi\n",
    "$α = 0.05$\n",
    "\n",
    "#### Uji Statistik\n",
    "Pada pengujian hipotesis ini, meskipun variansi populasi tidak diketahui, digunakan z-test, bukan t-test. Hal ini diputuskan karena jumlah sampel yang digunakan jauh lebih banyak dibanding 30.\n",
    "\n",
    "Digunakan tes statistik $z$ dengan rumus:\n",
    "$$ z = \\frac{(\\bar{x}_1 - \\bar{x}_2) - (\\mu_1 - \\mu_2)}{\\sqrt{{\\sigma_1^2/n_1 + \\sigma_2^2/n_2}}} $$\n",
    "\n",
    "dengan daerah kritis:\\\n",
    "$z < -z_{\\alpha/2}$ atau $z > z_{\\alpha/2}$ (two-tailed test)\n",
    "\n",
    "#### Pengambilan Keputusan\n",
    "##### Tes Daerah Kritis\n",
    "- Reject $H_0$ jika $z < -z_{\\alpha/2}$ atau $z > z_{\\alpha/2}$\n",
    "- Fail to reject $H_0$ jika $-z_{\\alpha/2} \\le z \\le z_{\\alpha/2}$\n",
    "\n",
    "##### Tes Signifikansi\n",
    "- Reject $H_0$ jika $p < \\alpha$\n",
    "- Fail to reject $H_0$ jika $p \\ge \\alpha$\n"
   ]
  },
  {
   "cell_type": "code",
   "execution_count": 33,
   "metadata": {},
   "outputs": [
    {
     "name": "stdout",
     "output_type": "stream",
     "text": [
      "Nilai z               : 0.02604\n",
      "Nilai z_alpha/2       : 1.95996\n",
      "Nilai p               : 0.97922\n"
     ]
    }
   ],
   "source": [
    "# Diketahui\n",
    "alpha = 0.05\n",
    "deltaMean = 0\n",
    "\n",
    "# Ambil data\n",
    "nData = len(dataAnggur) // 2\n",
    "dataAwal = dataAnggur[\"fixed acidity\"][ : nData]\n",
    "dataAkhir = dataAnggur[\"fixed acidity\"][nData : ]\n",
    "\n",
    "# Lakukan z-test dengan memanfaatkan library statsmodels untuk mendapatkan nilai z dan p\n",
    "z, p = ztest(dataAwal, dataAkhir, value = deltaMean)\n",
    "\n",
    "# Hitung z_alpha/2\n",
    "zAlpha2 = st.norm.ppf(1 - alpha / 2)\n",
    "\n",
    "# Tampilkan hasil\n",
    "print(f\"Nilai z               : {round(z, 5)}\")\n",
    "print(f\"Nilai z_alpha/2       : {round(zAlpha2, 5)}\")\n",
    "print(f\"Nilai p               : {round(p, 5)}\")"
   ]
  },
  {
   "attachments": {},
   "cell_type": "markdown",
   "metadata": {},
   "source": [
    "#### Hasil Tes\n",
    "##### Tes Daerah Kritis\n",
    "\n",
    "Karena $-z_{\\alpha/2} \\le z \\le z_{\\alpha/2}$ $(-1.95996 \\le 0.02604 \\le 1.95996)$, fail to reject $H_0$.\n",
    "\n",
    "##### Tes Signifikansi\n",
    "Karena $p \\ge \\alpha$ $(0.97922 \\ge 0.05)$, fail to reject $H_0$.\n",
    "\n",
    "#### Kesimpulan\n",
    "**Dengan tingkat signifikansi sebesar 0.05, tidak ada bukti yang cukup untuk menolak klaim bahwa rerata bagian awal dan akhir kolom fixed acidity bernilai sama.**"
   ]
  },
  {
   "attachments": {},
   "cell_type": "markdown",
   "metadata": {},
   "source": [
    "### b. Data kolom chlorides dibagi 2 sama rata: bagian awal dan bagian akhir kolom. Benarkah rata-rata bagian awal lebih besar daripada bagian akhir sebesar 0.001?"
   ]
  },
  {
   "attachments": {},
   "cell_type": "markdown",
   "metadata": {},
   "source": [
    "#### Hipotesis\n",
    "Misalkan 1 melambangkan bagian awal kolom chlorides dan 2 melambangkan bagian akhir kolom chlorides.\\\n",
    "$H_0$ : Rata-rata bagian awal lebih besar daripada bagian akhir sebesar 0.001 $(μ_1 = μ_2 + 0.001$ &#8660; $μ_1 - μ_2 = 0.001)$\\\n",
    "$H_1$ : Rata-rata bagian awal tidak lebih besar daripada bagian akhir sebesar 0.001 $(μ_1 \\neq μ_2 + 0.001$ &#8660; $μ_1 - μ_2 \\neq 0.001)$\\\n",
    "Dari kalimat soal, kita dapat menganggap bahwa klaimnya adalah $H_0$.\n",
    "\n",
    "#### Tingkat Signifikansi\n",
    "$α = 0.05$\n",
    "\n",
    "#### Uji Statistik\n",
    "Pada pengujian hipotesis ini, meskipun variansi populasi tidak diketahui, digunakan z-test, bukan t-test. Hal ini diputuskan karena jumlah sampel yang digunakan jauh lebih banyak dibanding 30.\n",
    "\n",
    "Digunakan tes statistik $z$ dengan rumus:\n",
    "$$ z = \\frac{(\\bar{x}_1 - \\bar{x}_2) - (\\mu_1 - \\mu_2)}{\\sqrt{{\\sigma_1^2/n_1 + \\sigma_2^2/n_2}}} $$\n",
    "\n",
    "dengan daerah kritis:\\\n",
    "$z < -z_{\\alpha/2}$ atau $z > z_{\\alpha/2}$ (two-tailed test)\n",
    "\n",
    "#### Pengambilan Keputusan\n",
    "##### Tes Daerah Kritis\n",
    "- Reject $H_0$ jika $z < -z_{\\alpha/2}$ atau $z > z_{\\alpha/2}$\n",
    "- Fail to reject $H_0$ jika $-z_{\\alpha/2} \\le z \\le z_{\\alpha/2}$\n",
    "##### Tes Signifikansi\n",
    "- Reject $H_0$ jika $p < \\alpha$\n",
    "- Fail to reject $H_0$ jika $p \\ge \\alpha$\n"
   ]
  },
  {
   "cell_type": "code",
   "execution_count": 34,
   "metadata": {},
   "outputs": [
    {
     "name": "stdout",
     "output_type": "stream",
     "text": [
      "Nilai z               : -0.46732\n",
      "Nilai z_alpha/2       : 1.95996\n",
      "Nilai p               : 0.64027\n"
     ]
    }
   ],
   "source": [
    "# Diketahui\n",
    "alpha = 0.05\n",
    "deltaMean = 0.001\n",
    "\n",
    "# Ambil data\n",
    "nData = len(dataAnggur) // 2\n",
    "dataAwal = dataAnggur[\"chlorides\"][ : nData]\n",
    "dataAkhir = dataAnggur[\"chlorides\"][nData : ]\n",
    "\n",
    "# Lakukan z-test dengan memanfaatkan library statsmodels untuk mendapatkan nilai z dan p\n",
    "z, p = ztest(dataAwal, dataAkhir, value = deltaMean)\n",
    "\n",
    "# Hitung z_alpha/2\n",
    "zAlpha2 = st.norm.ppf(1 - alpha / 2)\n",
    "\n",
    "# Tampilkan hasil\n",
    "print(f\"Nilai z               : {round(z, 5)}\")\n",
    "print(f\"Nilai z_alpha/2       : {round(zAlpha2, 5)}\")\n",
    "print(f\"Nilai p               : {round(p, 5)}\")"
   ]
  },
  {
   "attachments": {},
   "cell_type": "markdown",
   "metadata": {},
   "source": [
    "#### Hasil Tes\n",
    "##### Tes Daerah Kritis\n",
    "Karena $-z_{\\alpha/2} \\le z \\le z_{\\alpha/2}$ $(-1.95996 \\le -0.46732 \\le 1.95996)$, fail to reject $H_0$.\n",
    "##### Tes Signifikansi\n",
    "Karena $p \\ge \\alpha$ $(0.64027 \\ge 0.05)$, fail to reject $H_0$.\n",
    "\n",
    "#### Kesimpulan\n",
    "**Dengan tingkat signifikansi sebesar 0.05, tidak ada bukti yang cukup untuk menolak klaim bahwa untuk kolom chlorides, rata-rata bagian awal lebih besar daripada bagian akhir sebesar 0.001.**"
   ]
  },
  {
   "attachments": {},
   "cell_type": "markdown",
   "metadata": {},
   "source": [
    "### c. Benarkah rata-rata sampel 25 baris pertama kolom Volatile Acidity sama dengan rata-rata 25 baris pertama kolom Sulphates?"
   ]
  },
  {
   "attachments": {},
   "cell_type": "markdown",
   "metadata": {},
   "source": [
    "#### Hipotesis\n",
    "Misalkan 1 melambangkan 25 baris pertama kolom volatile acidity dan 2 melambangkan 25 baris pertama kolom sulphates.\\\n",
    "$H_0$ : Rata-rata 25 baris pertama kolom volatile acidity sama dengan rata-rata 25 baris pertama kolom sulphates $(μ_1 = μ_2$ &#8660; $μ_1 - μ_2 = 0)$\\\n",
    "$H_1$ : Rata-rata 25 baris pertama kolom volatile acidity tidak sama dengan rata-rata 25 baris pertama kolom sulphates $(μ_1 \\neq μ_2$ &#8660; $μ_1 - μ_2 \\neq 0)$\\\n",
    "Dari kalimat soal, kita dapat menganggap bahwa klaimnya adalah $H_0$.\n",
    "\n",
    "#### Tingkat Signifikansi\n",
    "$α = 0.05$\n",
    "\n",
    "#### Uji Statistik\n",
    "Pada pengujian hipotesis ini, karena variansi populasi tidak diketahui dan banyak sampel kurang dari 30, digunakan t-test. Dipilih kasus untuk variansi populasi yang berbeda karena diasumsikan kedua data yang berbeda kolom memiliki variansi populasi yang berbeda.\n",
    "\n",
    "Digunakan tes statistik $t$ dengan rumus:\n",
    "$$ t = \\frac{(\\bar{x}_1 - \\bar{x}_2) - (\\mu_1 - \\mu_2)}{\\sqrt{{s_1^2/n_1 + s_2^2/n_2}}} $$\n",
    "\n",
    "dengan derajat kebebasan:\n",
    "$$ v = \\frac{(s_1^2/n_1 + s_2^2/n_2)^2}{\\frac{(s_1^2/n_1)^2}{n_1-1}+\\frac{(s_2^2/n_2)^2}{n_2-1}}$$\n",
    "\n",
    "dengan daerah kritis:\\\n",
    "$ t < -t_{\\alpha/2}$ atau $t > t_{\\alpha/2}$ (two-tailed test)\n",
    "\n",
    "#### Pengambilan Keputusan\n",
    "##### Tes Daerah Kritis\n",
    "- Reject $H_0$ jika $t < -t_{\\alpha/2}$ atau $t > t_{\\alpha/2}$\n",
    "- Fail to reject $H_0$ jika $-t_{\\alpha/2} \\le t \\le t_{\\alpha/2}$\n",
    "##### Tes Signifikansi\n",
    "- Reject $H_0$ jika $p < \\alpha$\n",
    "- Fail to reject $H_0$ jika $p \\ge \\alpha$"
   ]
  },
  {
   "cell_type": "code",
   "execution_count": 35,
   "metadata": {},
   "outputs": [
    {
     "name": "stdout",
     "output_type": "stream",
     "text": [
      "Nilai t               : -2.63748\n",
      "Nilai t_alpha/2       : 2.01593\n",
      "Nilai p               : 0.01153\n"
     ]
    }
   ],
   "source": [
    "# Diketahui\n",
    "alpha = 0.05\n",
    "deltaMean = 0\n",
    "\n",
    "# Ambil data\n",
    "nData = 25\n",
    "dataVolatileAcidity = dataAnggur[\"volatile acidity\"][ : nData]\n",
    "dataSulphates = dataAnggur[\"sulphates\"][ : nData]\n",
    "\n",
    "# Lakukan t-test dengan memanfaatkan library scipy untuk mendapatkan nilai t dan p\n",
    "t, p = st.ttest_ind(a=dataVolatileAcidity, b=dataSulphates, equal_var=False)\n",
    "\n",
    "# Hitung derajat kebebasan\n",
    "s1_2 = dataVolatileAcidity.var()\n",
    "s2_2 = dataSulphates.var()\n",
    "n1 = len(dataVolatileAcidity)\n",
    "n2 = len(dataSulphates)\n",
    "v = (s1_2/n1 + s2_2/n2)**2 / (((s1_2/n1)**2)/(n1-1) + ((s2_2/n2)**2)/(n2-1))\n",
    "\n",
    "# Hitung t_alpha/2\n",
    "tAlpha2 = st.t.ppf(q=1-alpha/2,df=v)\n",
    "\n",
    "# Tampilkan hasil\n",
    "print(f\"Nilai t               : {round(t, 5)}\")\n",
    "print(f\"Nilai t_alpha/2       : {round(tAlpha2, 5)}\")\n",
    "print(f\"Nilai p               : {round(p, 5)}\")"
   ]
  },
  {
   "attachments": {},
   "cell_type": "markdown",
   "metadata": {},
   "source": [
    "#### Hasil Tes\n",
    "##### Tes Daerah Kritis\n",
    "Karena $t < -t_{\\alpha/2}$ $(-2.63748 < -2.01593)$, reject $H_0$.\n",
    "##### Tes Signifikansi\n",
    "Karena $p < \\alpha$ $(0.01153 < 0.05)$, reject $H_0$.\n",
    "\n",
    "#### Kesimpulan\n",
    "**Dengan tingkat signifikansi sebesar 0.05, ada bukti yang cukup untuk menolak klaim bahwa rata-rata 25 baris pertama kolom volatile acidity sama dengan rata-rata 25 baris pertama kolom sulphates.**"
   ]
  },
  {
   "attachments": {},
   "cell_type": "markdown",
   "metadata": {},
   "source": [
    "### d. Bagian awal kolom residual sugar memiliki variansi yang sama dengan bagian akhirnya?"
   ]
  },
  {
   "attachments": {},
   "cell_type": "markdown",
   "metadata": {},
   "source": [
    "#### Hipotesis\n",
    "Misalkan 1 melambangkan bagian awal kolom residual sugar dan 2 melambangkan bagian akhir kolom residual sugar.\\\n",
    "$H_0$ : Variansi bagian awal kolom residual sugar sama dengan bagian akhirnya $(σ^2_1 = σ^2_2)$\\\n",
    "$H_1$ : Variansi bagian awal kolom residual sugar tidak sama dengan bagian akhirnya $(σ^2_1 \\neq σ^2_2)$\\\n",
    "Dari kalimat soal, kita dapat menganggap bahwa klaimnya adalah $H_0$.\n",
    "\n",
    "#### Tingkat Signifikansi\n",
    "$α = 0.05$\n",
    "\n",
    "#### Uji Statistik\n",
    "Pada uji hipotesis ini, digunakan tes statistik $f$ dengan rumus:\n",
    "$$ f = \\frac{s_1^2}{s_1^2} $$\n",
    "\n",
    "dengan daerah kritis:\\\n",
    "$f < f_{\\alpha/2}(v_1,v_2)$ atau $f > f_{1-\\alpha/2}(v_1,v_2)$ (two-tailed test) dengan $v_1=n_1-1$ dan $v_2=n_2-1$\n",
    "\n",
    "#### Pengambilan Keputusan\n",
    "##### Tes Daerah Kritis\n",
    "- Reject $H_0$ jika $f < f_{\\alpha/2}(v_1,v_2)$ atau $f > f_{1-\\alpha/2}(v_1,v_2)$\n",
    "- Fail to reject $H_0$ jika $f_{\\alpha/2}(v_1,v_2) \\le f \\le f_{1-\\alpha/2}(v_1,v_2)$\n",
    "##### Tes Signifikansi\n",
    "- Reject $H_0$ jika $p < \\alpha$\n",
    "- Fail to reject $H_0$ jika $p \\ge \\alpha$"
   ]
  },
  {
   "cell_type": "code",
   "execution_count": 36,
   "metadata": {},
   "outputs": [
    {
     "name": "stdout",
     "output_type": "stream",
     "text": [
      "Nilai f               : 0.942\n",
      "Nilai f_(1 - alpha/2) : 1.19206\n",
      "Nilai f_alpha/2       : 0.83889\n",
      "Nilai p               : 0.50482\n"
     ]
    }
   ],
   "source": [
    "# Diketahui\n",
    "alpha = 0.05\n",
    "\n",
    "# Ambil data\n",
    "nData = len(dataAnggur) // 2\n",
    "dataAwal = dataAnggur[\"residual sugar\"][ : nData]\n",
    "dataAkhir = dataAnggur[\"residual sugar\"][ nData : ]\n",
    "\n",
    "# Hitung nilai f\n",
    "f = dataAwal.var() / dataAkhir.var()\n",
    "\n",
    "# Tentukan derajat kebebasan\n",
    "v1 = len(dataAwal) - 1\n",
    "v2 = len(dataAkhir) - 1\n",
    "\n",
    "# Hitung f_(1 - alpha/2) dan f_alpha/2 dengan library scipy\n",
    "f1MinAlpha2 = st.f.ppf(1 - alpha/2, v1, v2)\n",
    "fAlpha2 = st.f.ppf(alpha/2, v1, v2)\n",
    "\n",
    "# Hitung nilai p, p untuk two-tailed test adalah 2 kali tail area\n",
    "p = st.f.cdf(f, v1, v2) * 2\n",
    "\n",
    "# Tampilkan hasil\n",
    "print(f\"Nilai f               : {round(f, 5)}\")\n",
    "print(f\"Nilai f_(1 - alpha/2) : {round(f1MinAlpha2, 5)}\")\n",
    "print(f\"Nilai f_alpha/2       : {round(fAlpha2, 5)}\")\n",
    "print(f\"Nilai p               : {round(p, 5)}\")"
   ]
  },
  {
   "attachments": {},
   "cell_type": "markdown",
   "metadata": {},
   "source": [
    "#### Hasil Tes\n",
    "##### Tes Daerah Kritis\n",
    "Karena $f_{\\alpha/2}(v_1,v_2) \\le f \\le f_{1-\\alpha/2}(v_1,v_2)$ $(0.83889 \\le 0.942 \\le 1.19206)$, fail to reject $H_0$.\n",
    "##### Tes Signifikansi\n",
    "Karena $p \\ge \\alpha$ $(0.50482 \\ge 0.05)$, fail to reject $H_0$.\n",
    "\n",
    "#### Kesimpulan\n",
    "**Dengan tingkat signifikansi sebesar 0.05, tidak ada bukti yang cukup untuk menolak klaim bahwa variansi bagian awal dan akhir kolom residual sugar bernilai sama.**"
   ]
  },
  {
   "attachments": {},
   "cell_type": "markdown",
   "metadata": {},
   "source": [
    "### e. Proporsi nilai setengah bagian awal alcohol yang lebih dari 7, adalah lebih besar daripada, proporsi nilai yang sama di setengah bagian akhir alcohol?"
   ]
  },
  {
   "attachments": {},
   "cell_type": "markdown",
   "metadata": {},
   "source": [
    "#### Hipotesis\n",
    "Misalkan 1 melambangkan setengah bagian awal kolom alcohol yang lebih dari 7 dan 2 melambangkan setengah bagian akhir kolom kolom alcohol yang lebih dari 7.\\\n",
    "$H_0$ : Proporsi nilai setengah bagian awal alcohol yang lebih dari 7 sama dengan proporsi nilai yang sama di setengah bagian akhir alcohol $(p_1 = p_2 $ &#8660; $p_1 - p_2 = 0)$\\\n",
    "$H_1$ : Proporsi nilai setengah bagian awal alcohol yang lebih dari 7 lebih besar daripada proporsi nilai yang sama di setengah bagian akhir alcohol $(p_1 > p_2 $ &#8660; $p_1 - p_2 > 0)$\\\n",
    "Dari kalimat soal, kita dapat menganggap bahwa klaimnya adalah $H_1$.\n",
    "\n",
    "#### Tingkat Signifikansi\n",
    "$α = 0.05$\n",
    "\n",
    "#### Uji Statistik\n",
    "Pada uji hipotesis ini, digunakan tes statistik $z$ dengan rumus:\n",
    "$$ z = \\frac{\\hat{p_1} - \\hat{p_2}}{\\sqrt{\\hat{p}\\hat{q}({1/n_1} + {1/n_2})}} $$\n",
    "\n",
    "dengan $\\hat{p}$:\n",
    "$$ \\hat{p} = \\frac{x_1 + x_2}{n_1 + n_2}, \\hat{q} = 1 - \\hat{p}$$\n",
    "\n",
    "dengan daerah kritis:\\\n",
    "$z > z_{\\alpha/2}$ (one-tailed test)\n",
    "\n",
    "#### Pengambilan Keputusan\n",
    "##### Tes Daerah Kritis\n",
    "- Reject $H_0$ jika $z > z_{\\alpha}$\n",
    "- Fail to reject $H_0$ jika $z \\le z_{\\alpha}$\n",
    "##### Tes Signifikansi\n",
    "- Reject $H_0$ jika $p < \\alpha$\n",
    "- Fail to reject $H_0$ jika $p \\ge \\alpha$"
   ]
  },
  {
   "cell_type": "code",
   "execution_count": 37,
   "metadata": {},
   "outputs": [
    {
     "name": "stdout",
     "output_type": "stream",
     "text": [
      "Nilai z               : 0.0\n",
      "Nilai z_alpha         : 1.64485\n",
      "Nilai p               : 0.5\n"
     ]
    }
   ],
   "source": [
    "# Diketahui\n",
    "alpha = 0.05\n",
    "deltaProp = 0\n",
    "\n",
    "# Ambil data\n",
    "nData = len(dataAnggur) // 2\n",
    "dataAwal = dataAnggur[ : nData ]\n",
    "dataAkhir = dataAnggur[ nData : ]\n",
    "\n",
    "# Lakukan proportions z-test dengan memanfaatkan library statsmodels untuk mendapatkan nilai z dan p\n",
    "xAwal = len(dataAwal[dataAwal[\"alcohol\"] > 7])\n",
    "nAwal = len(dataAwal)\n",
    "xAkhir = len(dataAkhir[dataAkhir[\"alcohol\"] > 7])\n",
    "nAkhir = len(dataAkhir)\n",
    "z, _ = proportions_ztest([xAwal, xAkhir], [nAwal, nAkhir], value = deltaProp, prop_var = deltaProp)\n",
    "p = 1 - st.norm.cdf(z)\n",
    "\n",
    "# Hitung z_alpha\n",
    "zAlpha = st.norm.ppf(1 - alpha)\n",
    "\n",
    "# Tampilkan hasil\n",
    "print(f\"Nilai z               : {round(z, 5)}\")\n",
    "print(f\"Nilai z_alpha         : {round(zAlpha, 5)}\")\n",
    "print(f\"Nilai p               : {round(p, 5)}\")\n"
   ]
  },
  {
   "attachments": {},
   "cell_type": "markdown",
   "metadata": {},
   "source": [
    "#### Hasil Tes\n",
    "##### Tes Daerah Kritis\n",
    "Karena $z \\le z_{\\alpha}$ $(0.0 \\le 1.64485)$, fail to reject $H_0$.\n",
    "##### Tes Signifikansi\n",
    "Karena $p \\ge \\alpha$ $(0.5 \\ge 0.05)$, fail to reject $H_0$.\n",
    "\n",
    "#### Kesimpulan\n",
    "**Dengan tingkat signifikansi sebesar 0.05, tidak ada bukti yang cukup untuk mendukung klaim bahwa proporsi nilai setengah bagian awal alcohol yang lebih dari 7 lebih besar daripada proporsi nilai yang sama di setengah bagian akhir alcohol.**"
   ]
  }
 ],
 "metadata": {
  "kernelspec": {
   "display_name": "Python 3",
   "language": "python",
   "name": "python3"
  },
  "language_info": {
   "codemirror_mode": {
    "name": "ipython",
    "version": 3
   },
   "file_extension": ".py",
   "mimetype": "text/x-python",
   "name": "python",
   "nbconvert_exporter": "python",
   "pygments_lexer": "ipython3",
   "version": "3.10.5"
  },
  "orig_nbformat": 4,
  "vscode": {
   "interpreter": {
    "hash": "aee8b7b246df8f9039afb4144a1f6fd8d2ca17a180786b69acc140d282b71a49"
   }
  }
 },
 "nbformat": 4,
 "nbformat_minor": 2
}
