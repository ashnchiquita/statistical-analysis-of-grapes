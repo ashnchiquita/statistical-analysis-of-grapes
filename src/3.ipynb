{
 "cells": [
  {
   "cell_type": "code",
   "execution_count": 2,
   "metadata": {},
   "outputs": [],
   "source": [
    "import pandas as pd\n",
    "import matplotlib.pyplot as plt\n",
    "from scipy import stats\n",
    "\n",
    "dataAnggur = pd.read_csv('../data/anggur.csv')"
   ]
  },
  {
   "attachments": {},
   "cell_type": "markdown",
   "metadata": {},
   "source": [
    "Menentukan setiap kolom numerik berdistribusi normal atau tidak. Gunakan normality test\n",
    "yang dikaitkan dengan histogram plot"
   ]
  },
  {
   "attachments": {},
   "cell_type": "markdown",
   "metadata": {},
   "source": [
    "## Asumsi\n",
    "Pada tes normalitas yang dilakukan pada Tugas Besar II ini, berlaku asumsi sebagai berikut:\n",
    "- Suatu distibusi dapat dikatakan *positively skewed* apabila memiliki nilai *skewness* lebih besar dari 0.5\n",
    "- Suatu distibusi dapat dikatakan *negatively skewed* apabila memiliki nilai *skewness* lebih besar dari -0.5\n",
    "- Suatu distibusi dapat dikatakan normal apabila memiliki nilai *skewness* diantara -0.5 sampai 0.5\n",
    "\n",
    "- If Mode< Median< Mean then the distribution is positively skewed.\n",
    "- If Mode> Median> Mean then the distribution is negatively skewed."
   ]
  },
  {
   "attachments": {},
   "cell_type": "markdown",
   "metadata": {},
   "source": [
    "### 1. fixed acidity"
   ]
  },
  {
   "cell_type": "code",
   "execution_count": 16,
   "metadata": {},
   "outputs": [
    {
     "name": "stdout",
     "output_type": "stream",
     "text": [
      "Skewness:  -0.028878575532660055\n"
     ]
    }
   ],
   "source": [
    "# Check skewness\n",
    "data = dataAnggur['fixed acidity']\n",
    "print(\"Skewness: \" , data.skew())"
   ]
  },
  {
   "attachments": {},
   "cell_type": "markdown",
   "metadata": {},
   "source": [
    "Berdasarkan tes normalitas yang dilakukan di atas, kolom fixed acidity (tidak) berdistribusi normal karena ..."
   ]
  },
  {
   "attachments": {},
   "cell_type": "markdown",
   "metadata": {},
   "source": [
    "### 2. volatile acidity"
   ]
  },
  {
   "cell_type": "code",
   "execution_count": 15,
   "metadata": {},
   "outputs": [
    {
     "name": "stdout",
     "output_type": "stream",
     "text": [
      "Skewness:  -0.1976986986092083\n"
     ]
    }
   ],
   "source": [
    "# Check skewness\n",
    "data = dataAnggur['volatile acidity']\n",
    "print(\"Skewness: \" , data.skew())"
   ]
  },
  {
   "attachments": {},
   "cell_type": "markdown",
   "metadata": {},
   "source": [
    "Berdasarkan tes normalitas yang dilakukan di atas, kolom volatile activity (tidak) berdistribusi normal karena ..."
   ]
  },
  {
   "attachments": {},
   "cell_type": "markdown",
   "metadata": {},
   "source": [
    "### 3. citric acid"
   ]
  },
  {
   "cell_type": "code",
   "execution_count": 12,
   "metadata": {},
   "outputs": [
    {
     "name": "stdout",
     "output_type": "stream",
     "text": [
      "Skewness:  -0.045576058685017296\n"
     ]
    }
   ],
   "source": [
    "# Check skewness\n",
    "data = dataAnggur['citric acid']\n",
    "print(\"Skewness: \" , data.skew())"
   ]
  },
  {
   "attachments": {},
   "cell_type": "markdown",
   "metadata": {},
   "source": [
    "Berdasarkan tes normalitas yang dilakukan di atas, kolom citric acid (tidak) berdistribusi normal karena ..."
   ]
  },
  {
   "attachments": {},
   "cell_type": "markdown",
   "metadata": {},
   "source": [
    "### 4. residual sugar"
   ]
  },
  {
   "cell_type": "code",
   "execution_count": 11,
   "metadata": {},
   "outputs": [
    {
     "name": "stdout",
     "output_type": "stream",
     "text": [
      "Skewness:  0.13263808618992312\n"
     ]
    }
   ],
   "source": [
    "# Check skewness\n",
    "data = dataAnggur['residual sugar']\n",
    "print(\"Skewness: \" , data.skew())"
   ]
  },
  {
   "attachments": {},
   "cell_type": "markdown",
   "metadata": {},
   "source": [
    "Berdasarkan tes normalitas yang dilakukan di atas, kolom residual sugar (tidak) berdistribusi normal karena ..."
   ]
  },
  {
   "attachments": {},
   "cell_type": "markdown",
   "metadata": {},
   "source": [
    "### 5. chlorides"
   ]
  },
  {
   "cell_type": "code",
   "execution_count": 10,
   "metadata": {},
   "outputs": [
    {
     "name": "stdout",
     "output_type": "stream",
     "text": [
      "Skewness:  -0.05131929742072573\n"
     ]
    }
   ],
   "source": [
    "# Check skewness\n",
    "data = dataAnggur['chlorides']\n",
    "print(\"Skewness: \" , data.skew())"
   ]
  },
  {
   "attachments": {},
   "cell_type": "markdown",
   "metadata": {},
   "source": [
    "Berdasarkan tes normalitas yang dilakukan di atas, kolom chlorides (tidak) berdistribusi normal karena ..."
   ]
  },
  {
   "attachments": {},
   "cell_type": "markdown",
   "metadata": {},
   "source": [
    "### 6. free sulfur dioxide"
   ]
  },
  {
   "cell_type": "code",
   "execution_count": null,
   "metadata": {},
   "outputs": [],
   "source": [
    "# Check skewness\n",
    "data = dataAnggur['free sulfur dioxide']\n",
    "print(\"Skewness: \" , data.skew())"
   ]
  },
  {
   "attachments": {},
   "cell_type": "markdown",
   "metadata": {},
   "source": [
    "Berdasarkan tes normalitas yang dilakukan di atas, kolom free sulfur dioxide (tidak) berdistribusi normal karena ..."
   ]
  },
  {
   "attachments": {},
   "cell_type": "markdown",
   "metadata": {},
   "source": [
    "### 7. total sulfur dioxide"
   ]
  },
  {
   "cell_type": "code",
   "execution_count": 3,
   "metadata": {},
   "outputs": [
    {
     "data": {
      "image/png": "[encoded data removed]",
      "text/plain": [
       "<Figure size 640x480 with 1 Axes>"
      ]
     },
     "metadata": {},
     "output_type": "display_data"
    },
    {
     "name": "stdout",
     "output_type": "stream",
     "text": [
      "Skewness:  -0.024060026812269975\n",
      "\n",
      "Jarque-Bera Test\n",
      "Test, p-value =  0.23460663606655363 ,  0.8893154068497843\n",
      "\n",
      "Shapiro-Wilk Test\n",
      "Test, p-value =  0.9984723925590515 ,  0.5367269515991211\n"
     ]
    }
   ],
   "source": [
    "# Data\n",
    "dataTotalSulfurDioxide = dataAnggur['total sulfur dioxide']\n",
    "plt.hist(dataTotalSulfurDioxide)\n",
    "plt.show()\n",
    "# Check skewness\n",
    "print(\"Skewness: \" , dataTotalSulfurDioxide.skew())\n",
    "\n",
    "# Jarque bera Test\n",
    "print(\"\\nJarque-Bera Test\")\n",
    "stat, p = stats.jarque_bera(dataTotalSulfurDioxide)\n",
    "print(\"Test, p-value = \", stat, \", \", p)\n",
    "\n",
    "# Shapiro-Wilk Test\n",
    "print(\"\\nShapiro-Wilk Test\")\n",
    "stat, p = stats.shapiro(dataTotalSulfurDioxide)\n",
    "print(\"Test, p-value = \", stat, \", \", p)"
   ]
  },
  {
   "attachments": {},
   "cell_type": "markdown",
   "metadata": {},
   "source": [
    "Berdasarkan tes normalitas yang dilakukan di atas, kolom total sulfur dioxide berdistribusi normal karena memiliki nilai *skewness* sebesar -0.02. Hal ini juga tercermin pada plot histogram yang memiliki bentuk *bell-shaped*."
   ]
  },
  {
   "attachments": {},
   "cell_type": "markdown",
   "metadata": {},
   "source": [
    "### 8. density"
   ]
  },
  {
   "cell_type": "code",
   "execution_count": 5,
   "metadata": {},
   "outputs": [
    {
     "name": "stdout",
     "output_type": "stream",
     "text": [
      "Skewness:  -0.07688278915513917\n"
     ]
    }
   ],
   "source": [
    "# Check skewness\n",
    "dataDensity = dataAnggur['density']\n",
    "print(\"Skewness: \" , data.skew())"
   ]
  },
  {
   "attachments": {},
   "cell_type": "markdown",
   "metadata": {},
   "source": [
    "Berdasarkan tes normalitas yang dilakukan di atas, kolom fixed density (tidak) berdistribusi normal karena ..."
   ]
  },
  {
   "attachments": {},
   "cell_type": "markdown",
   "metadata": {},
   "source": [
    "### 9. pH"
   ]
  },
  {
   "cell_type": "code",
   "execution_count": 6,
   "metadata": {},
   "outputs": [
    {
     "name": "stdout",
     "output_type": "stream",
     "text": [
      "Skewness:  0.14767259510827038\n"
     ]
    }
   ],
   "source": [
    "# Check skewness\n",
    "data = dataAnggur['pH']\n",
    "print(\"Skewness: \" , data.skew())"
   ]
  },
  {
   "attachments": {},
   "cell_type": "markdown",
   "metadata": {},
   "source": [
    "Berdasarkan tes normalitas yang dilakukan di atas, kolom pH (tidak) berdistribusi normal karena ..."
   ]
  },
  {
   "attachments": {},
   "cell_type": "markdown",
   "metadata": {},
   "source": [
    "### 10. sulphates"
   ]
  },
  {
   "cell_type": "code",
   "execution_count": 7,
   "metadata": {},
   "outputs": [
    {
     "name": "stdout",
     "output_type": "stream",
     "text": [
      "Skewness:  0.1491989008699043\n"
     ]
    }
   ],
   "source": [
    "# Check skewness\n",
    "data = dataAnggur['sulphates']\n",
    "print(\"Skewness: \" , data.skew())"
   ]
  },
  {
   "attachments": {},
   "cell_type": "markdown",
   "metadata": {},
   "source": [
    "Berdasarkan tes normalitas yang dilakukan di atas, kolom sulphates (tidak) berdistribusi normal karena ..."
   ]
  },
  {
   "attachments": {},
   "cell_type": "markdown",
   "metadata": {},
   "source": [
    "### 11. alcohol"
   ]
  },
  {
   "cell_type": "code",
   "execution_count": 8,
   "metadata": {},
   "outputs": [
    {
     "name": "stdout",
     "output_type": "stream",
     "text": [
      "Skewness:  -0.01899140432111647\n"
     ]
    }
   ],
   "source": [
    "# Check skewness\n",
    "data = dataAnggur['alcohol']\n",
    "print(\"Skewness: \" , data.skew())"
   ]
  },
  {
   "attachments": {},
   "cell_type": "markdown",
   "metadata": {},
   "source": [
    "Berdasarkan tes normalitas yang dilakukan di atas, kolom alcohol (tidak) berdistribusi normal karena ..."
   ]
  },
  {
   "attachments": {},
   "cell_type": "markdown",
   "metadata": {},
   "source": [
    "### 12. quality"
   ]
  },
  {
   "cell_type": "code",
   "execution_count": 9,
   "metadata": {},
   "outputs": [
    {
     "name": "stdout",
     "output_type": "stream",
     "text": [
      "Skewness:  -0.08905409122491781\n"
     ]
    }
   ],
   "source": [
    "# Check skewness\n",
    "data = dataAnggur['quality']\n",
    "print(\"Skewness: \" , data.skew())"
   ]
  },
  {
   "attachments": {},
   "cell_type": "markdown",
   "metadata": {},
   "source": [
    "Berdasarkan tes normalitas yang dilakukan di atas, kolom quality (tidak) berdistribusi normal karena ..."
   ]
  }
 ],
 "metadata": {
  "kernelspec": {
   "display_name": "Python 3",
   "language": "python",
   "name": "python3"
  },
  "language_info": {
   "codemirror_mode": {
    "name": "ipython",
    "version": 3
   },
   "file_extension": ".py",
   "mimetype": "text/x-python",
   "name": "python",
   "nbconvert_exporter": "python",
   "pygments_lexer": "ipython3",
   "version": "3.11.2"
  },
  "orig_nbformat": 4,
  "vscode": {
   "interpreter": {
    "hash": "aee8b7b246df8f9039afb4144a1f6fd8d2ca17a180786b69acc140d282b71a49"
   }
  }
 },
 "nbformat": 4,
 "nbformat_minor": 2
}
