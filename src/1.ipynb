{
 "cells": [
  {
   "cell_type": "code",
   "execution_count": 1,
   "metadata": {},
   "outputs": [],
   "source": [
    "import pandas as pd\n",
    "\n",
    "dataAnggur = pd.read_csv('../data/anggur.csv')"
   ]
  },
  {
   "attachments": {},
   "cell_type": "markdown",
   "metadata": {},
   "source": [
    "Menulis deskripsi statistika (Descriptive Statistics) dari semua kolom pada data yang bersifat\n",
    "numerik, terdiri dari mean, median, modus, standar deviasi, variansi, range, nilai minimum,\n",
    "maksimum, kuartil, IQR, skewness dan kurtosis. Boleh juga ditambahkan deskripsi lain."
   ]
  },
  {
   "attachments": {},
   "cell_type": "markdown",
   "metadata": {},
   "source": [
    "### 1. Mean"
   ]
  },
  {
   "cell_type": "code",
   "execution_count": 2,
   "metadata": {},
   "outputs": [
    {
     "data": {
      "text/plain": [
       "fixed acidity            7.152530\n",
       "volatile acidity         0.520839\n",
       "citric acid              0.270517\n",
       "residual sugar           2.567104\n",
       "chlorides                0.081195\n",
       "free sulfur dioxide     14.907679\n",
       "total sulfur dioxide    40.290150\n",
       "density                  0.995925\n",
       "pH                       3.303610\n",
       "sulphates                0.598390\n",
       "alcohol                 10.592280\n",
       "quality                  7.958000\n",
       "dtype: float64"
      ]
     },
     "execution_count": 2,
     "metadata": {},
     "output_type": "execute_result"
    }
   ],
   "source": [
    "dataAnggur.mean()"
   ]
  },
  {
   "attachments": {},
   "cell_type": "markdown",
   "metadata": {},
   "source": [
    "### 2. Median"
   ]
  },
  {
   "cell_type": "code",
   "execution_count": 3,
   "metadata": {},
   "outputs": [
    {
     "data": {
      "text/plain": [
       "fixed acidity            7.150000\n",
       "volatile acidity         0.524850\n",
       "citric acid              0.272200\n",
       "residual sugar           2.519430\n",
       "chlorides                0.082167\n",
       "free sulfur dioxide     14.860346\n",
       "total sulfur dioxide    40.190000\n",
       "density                  0.996000\n",
       "pH                       3.300000\n",
       "sulphates                0.595000\n",
       "alcohol                 10.610000\n",
       "quality                  8.000000\n",
       "dtype: float64"
      ]
     },
     "execution_count": 3,
     "metadata": {},
     "output_type": "execute_result"
    }
   ],
   "source": [
    "dataAnggur.median()"
   ]
  },
  {
   "attachments": {},
   "cell_type": "markdown",
   "metadata": {},
   "source": [
    "### 3. Modus"
   ]
  },
  {
   "cell_type": "code",
   "execution_count": 4,
   "metadata": {},
   "outputs": [
    {
     "data": {
      "text/plain": [
       "fixed acidity            6.540000\n",
       "volatile acidity         0.554600\n",
       "citric acid              0.301900\n",
       "residual sugar           0.032555\n",
       "chlorides                0.015122\n",
       "free sulfur dioxide      0.194679\n",
       "total sulfur dioxide    35.200000\n",
       "density                  0.995900\n",
       "pH                       3.340000\n",
       "sulphates                0.590000\n",
       "alcohol                  9.860000\n",
       "quality                  8.000000\n",
       "Name: 0, dtype: float64"
      ]
     },
     "execution_count": 4,
     "metadata": {},
     "output_type": "execute_result"
    }
   ],
   "source": [
    "dataAnggur.mode().iloc[0]"
   ]
  },
  {
   "attachments": {},
   "cell_type": "markdown",
   "metadata": {},
   "source": [
    "### 4. Standar Deviasi"
   ]
  },
  {
   "cell_type": "code",
   "execution_count": 5,
   "metadata": {},
   "outputs": [
    {
     "data": {
      "text/plain": [
       "fixed acidity            1.443837\n",
       "volatile acidity         0.009187\n",
       "citric acid              0.002411\n",
       "residual sugar           0.975977\n",
       "chlorides                0.000404\n",
       "free sulfur dioxide     23.893519\n",
       "total sulfur dioxide    99.316519\n",
       "density                  0.000004\n",
       "pH                       0.010999\n",
       "sulphates                0.010164\n",
       "alcohol                  2.282233\n",
       "quality                  0.815051\n",
       "dtype: float64"
      ]
     },
     "execution_count": 5,
     "metadata": {},
     "output_type": "execute_result"
    }
   ],
   "source": [
    "dataAnggur.var()"
   ]
  },
  {
   "attachments": {},
   "cell_type": "markdown",
   "metadata": {},
   "source": [
    "### 5. Variansi"
   ]
  },
  {
   "cell_type": "code",
   "execution_count": 6,
   "metadata": {},
   "outputs": [
    {
     "data": {
      "text/plain": [
       "fixed acidity           1.201598\n",
       "volatile acidity        0.095848\n",
       "citric acid             0.049098\n",
       "residual sugar          0.987915\n",
       "chlorides               0.020111\n",
       "free sulfur dioxide     4.888100\n",
       "total sulfur dioxide    9.965767\n",
       "density                 0.002020\n",
       "pH                      0.104875\n",
       "sulphates               0.100819\n",
       "alcohol                 1.510706\n",
       "quality                 0.902802\n",
       "dtype: float64"
      ]
     },
     "execution_count": 6,
     "metadata": {},
     "output_type": "execute_result"
    }
   ],
   "source": [
    "dataAnggur.std()"
   ]
  },
  {
   "attachments": {},
   "cell_type": "markdown",
   "metadata": {},
   "source": [
    "### 6. Range"
   ]
  },
  {
   "cell_type": "code",
   "execution_count": 7,
   "metadata": {},
   "outputs": [
    {
     "data": {
      "text/plain": [
       "fixed acidity            8.170000\n",
       "volatile acidity         0.665200\n",
       "citric acid              0.292900\n",
       "residual sugar           5.518200\n",
       "chlorides                0.125635\n",
       "free sulfur dioxide     27.267847\n",
       "total sulfur dioxide    66.810000\n",
       "density                  0.013800\n",
       "pH                       0.740000\n",
       "sulphates                0.670000\n",
       "alcohol                  8.990000\n",
       "quality                  5.000000\n",
       "dtype: float64"
      ]
     },
     "execution_count": 7,
     "metadata": {},
     "output_type": "execute_result"
    }
   ],
   "source": [
    "dataAnggur.max() - dataAnggur.min()"
   ]
  },
  {
   "attachments": {},
   "cell_type": "markdown",
   "metadata": {},
   "source": [
    "### 7. Nilai Minimum"
   ]
  },
  {
   "cell_type": "code",
   "execution_count": 8,
   "metadata": {},
   "outputs": [
    {
     "data": {
      "text/plain": [
       "fixed acidity           3.320000\n",
       "volatile acidity        0.139900\n",
       "citric acid             0.116700\n",
       "residual sugar          0.032555\n",
       "chlorides               0.015122\n",
       "free sulfur dioxide     0.194679\n",
       "total sulfur dioxide    3.150000\n",
       "density                 0.988800\n",
       "pH                      2.970000\n",
       "sulphates               0.290000\n",
       "alcohol                 6.030000\n",
       "quality                 5.000000\n",
       "dtype: float64"
      ]
     },
     "execution_count": 8,
     "metadata": {},
     "output_type": "execute_result"
    }
   ],
   "source": [
    "dataAnggur.min()"
   ]
  },
  {
   "attachments": {},
   "cell_type": "markdown",
   "metadata": {},
   "source": [
    "### 8. Nilai Maksimum"
   ]
  },
  {
   "cell_type": "code",
   "execution_count": 9,
   "metadata": {},
   "outputs": [
    {
     "data": {
      "text/plain": [
       "fixed acidity           11.490000\n",
       "volatile acidity         0.805100\n",
       "citric acid              0.409600\n",
       "residual sugar           5.550755\n",
       "chlorides                0.140758\n",
       "free sulfur dioxide     27.462525\n",
       "total sulfur dioxide    69.960000\n",
       "density                  1.002600\n",
       "pH                       3.710000\n",
       "sulphates                0.960000\n",
       "alcohol                 15.020000\n",
       "quality                 10.000000\n",
       "dtype: float64"
      ]
     },
     "execution_count": 9,
     "metadata": {},
     "output_type": "execute_result"
    }
   ],
   "source": [
    "dataAnggur.max()"
   ]
  },
  {
   "attachments": {},
   "cell_type": "markdown",
   "metadata": {},
   "source": [
    "### 9. Quartil"
   ]
  },
  {
   "attachments": {},
   "cell_type": "markdown",
   "metadata": {},
   "source": [
    "Pada tabel di bawah ini, 0.25 bermakna quartil pertama (25%), 0.50 bermakna quartil kedua (50%), dan 0.75 bermakna quartil ketiga (75%)."
   ]
  },
  {
   "cell_type": "code",
   "execution_count": 10,
   "metadata": {},
   "outputs": [
    {
     "data": {
      "text/html": [
       "<div>\n",
       "<style scoped>\n",
       "    .dataframe tbody tr th:only-of-type {\n",
       "        vertical-align: middle;\n",
       "    }\n",
       "\n",
       "    .dataframe tbody tr th {\n",
       "        vertical-align: top;\n",
       "    }\n",
       "\n",
       "    .dataframe thead th {\n",
       "        text-align: right;\n",
       "    }\n",
       "</style>\n",
       "<table border=\"1\" class=\"dataframe\">\n",
       "  <thead>\n",
       "    <tr style=\"text-align: right;\">\n",
       "      <th></th>\n",
       "      <th>fixed acidity</th>\n",
       "      <th>volatile acidity</th>\n",
       "      <th>citric acid</th>\n",
       "      <th>residual sugar</th>\n",
       "      <th>chlorides</th>\n",
       "      <th>free sulfur dioxide</th>\n",
       "      <th>total sulfur dioxide</th>\n",
       "      <th>density</th>\n",
       "      <th>pH</th>\n",
       "      <th>sulphates</th>\n",
       "      <th>alcohol</th>\n",
       "      <th>quality</th>\n",
       "    </tr>\n",
       "  </thead>\n",
       "  <tbody>\n",
       "    <tr>\n",
       "      <th>0.25</th>\n",
       "      <td>6.3775</td>\n",
       "      <td>0.456100</td>\n",
       "      <td>0.237800</td>\n",
       "      <td>1.896330</td>\n",
       "      <td>0.066574</td>\n",
       "      <td>11.426717</td>\n",
       "      <td>33.7850</td>\n",
       "      <td>0.9946</td>\n",
       "      <td>3.23</td>\n",
       "      <td>0.530</td>\n",
       "      <td>9.5600</td>\n",
       "      <td>7.0</td>\n",
       "    </tr>\n",
       "    <tr>\n",
       "      <th>0.50</th>\n",
       "      <td>7.1500</td>\n",
       "      <td>0.524850</td>\n",
       "      <td>0.272200</td>\n",
       "      <td>2.519430</td>\n",
       "      <td>0.082167</td>\n",
       "      <td>14.860346</td>\n",
       "      <td>40.1900</td>\n",
       "      <td>0.9960</td>\n",
       "      <td>3.30</td>\n",
       "      <td>0.595</td>\n",
       "      <td>10.6100</td>\n",
       "      <td>8.0</td>\n",
       "    </tr>\n",
       "    <tr>\n",
       "      <th>0.75</th>\n",
       "      <td>8.0000</td>\n",
       "      <td>0.585375</td>\n",
       "      <td>0.302325</td>\n",
       "      <td>3.220873</td>\n",
       "      <td>0.095312</td>\n",
       "      <td>18.313098</td>\n",
       "      <td>47.0225</td>\n",
       "      <td>0.9972</td>\n",
       "      <td>3.37</td>\n",
       "      <td>0.670</td>\n",
       "      <td>11.6225</td>\n",
       "      <td>9.0</td>\n",
       "    </tr>\n",
       "  </tbody>\n",
       "</table>\n",
       "</div>"
      ],
      "text/plain": [
       "      fixed acidity  volatile acidity  citric acid  residual sugar  chlorides  \\\n",
       "0.25         6.3775          0.456100     0.237800        1.896330   0.066574   \n",
       "0.50         7.1500          0.524850     0.272200        2.519430   0.082167   \n",
       "0.75         8.0000          0.585375     0.302325        3.220873   0.095312   \n",
       "\n",
       "      free sulfur dioxide  total sulfur dioxide  density    pH  sulphates  \\\n",
       "0.25            11.426717               33.7850   0.9946  3.23      0.530   \n",
       "0.50            14.860346               40.1900   0.9960  3.30      0.595   \n",
       "0.75            18.313098               47.0225   0.9972  3.37      0.670   \n",
       "\n",
       "      alcohol  quality  \n",
       "0.25   9.5600      7.0  \n",
       "0.50  10.6100      8.0  \n",
       "0.75  11.6225      9.0  "
      ]
     },
     "execution_count": 10,
     "metadata": {},
     "output_type": "execute_result"
    }
   ],
   "source": [
    "dataAnggur.quantile([0.25,0.50,0.75])"
   ]
  },
  {
   "attachments": {},
   "cell_type": "markdown",
   "metadata": {},
   "source": [
    "### 10. Inter Quartile Range (IQR)"
   ]
  },
  {
   "cell_type": "code",
   "execution_count": 11,
   "metadata": {},
   "outputs": [
    {
     "data": {
      "text/plain": [
       "fixed acidity            1.622500\n",
       "volatile acidity         0.129275\n",
       "citric acid              0.064525\n",
       "residual sugar           1.324544\n",
       "chlorides                0.028738\n",
       "free sulfur dioxide      6.886381\n",
       "total sulfur dioxide    13.237500\n",
       "density                  0.002600\n",
       "pH                       0.140000\n",
       "sulphates                0.140000\n",
       "alcohol                  2.062500\n",
       "quality                  2.000000\n",
       "dtype: float64"
      ]
     },
     "execution_count": 11,
     "metadata": {},
     "output_type": "execute_result"
    }
   ],
   "source": [
    "dataAnggur.quantile(0.75) - dataAnggur.quantile(0.25)"
   ]
  },
  {
   "attachments": {},
   "cell_type": "markdown",
   "metadata": {},
   "source": [
    "### 11. Skewness"
   ]
  },
  {
   "cell_type": "code",
   "execution_count": 12,
   "metadata": {},
   "outputs": [
    {
     "data": {
      "text/plain": [
       "fixed acidity          -0.028879\n",
       "volatile acidity       -0.197699\n",
       "citric acid            -0.045576\n",
       "residual sugar          0.132638\n",
       "chlorides              -0.051319\n",
       "free sulfur dioxide     0.007130\n",
       "total sulfur dioxide   -0.024060\n",
       "density                -0.076883\n",
       "pH                      0.147673\n",
       "sulphates               0.149199\n",
       "alcohol                -0.018991\n",
       "quality                -0.089054\n",
       "dtype: float64"
      ]
     },
     "execution_count": 12,
     "metadata": {},
     "output_type": "execute_result"
    }
   ],
   "source": [
    "dataAnggur.skew()"
   ]
  },
  {
   "attachments": {},
   "cell_type": "markdown",
   "metadata": {},
   "source": [
    "### 12. Excess Kurtosis"
   ]
  },
  {
   "cell_type": "code",
   "execution_count": 13,
   "metadata": {},
   "outputs": [
    {
     "data": {
      "text/plain": [
       "fixed acidity          -0.019292\n",
       "volatile acidity        0.161853\n",
       "citric acid            -0.104679\n",
       "residual sugar         -0.042980\n",
       "chlorides              -0.246508\n",
       "free sulfur dioxide    -0.364964\n",
       "total sulfur dioxide    0.063950\n",
       "density                 0.016366\n",
       "pH                      0.080910\n",
       "sulphates               0.064819\n",
       "alcohol                -0.131732\n",
       "quality                 0.108291\n",
       "dtype: float64"
      ]
     },
     "execution_count": 13,
     "metadata": {},
     "output_type": "execute_result"
    }
   ],
   "source": [
    "dataAnggur.kurtosis()"
   ]
  }
 ],
 "metadata": {
  "kernelspec": {
   "display_name": "base",
   "language": "python",
   "name": "python3"
  },
  "language_info": {
   "codemirror_mode": {
    "name": "ipython",
    "version": 3
   },
   "file_extension": ".py",
   "mimetype": "text/x-python",
   "name": "python",
   "nbconvert_exporter": "python",
   "pygments_lexer": "ipython3",
   "version": "3.10.5"
  },
  "orig_nbformat": 4,
  "vscode": {
   "interpreter": {
    "hash": "5006cb848db5d314cac4a1c4c28010bfd098eee7025e1d5d5ab09f30bb603303"
   }
  }
 },
 "nbformat": 4,
 "nbformat_minor": 2
}
