{
 "cells": [
  {
   "cell_type": "code",
   "execution_count": 1,
   "metadata": {},
   "outputs": [],
   "source": [
    "import scipy.stats as st\n",
    "import pandas as pd\n",
    "import matplotlib.pyplot as plt\n",
    "from statsmodels.stats.weightstats import ztest\n",
    "from statsmodels.stats.proportion import proportions_ztest\n",
    "\n",
    "dataAnggur = pd.read_csv('../data/anggur.csv')"
   ]
  },
  {
   "attachments": {},
   "cell_type": "markdown",
   "metadata": {},
   "source": [
    "Melakukan test hipotesis 1 sampel,"
   ]
  },
  {
   "attachments": {},
   "cell_type": "markdown",
   "metadata": {},
   "source": [
    "### a. Nilai rata-rata pH di atas 3.29?"
   ]
  },
  {
   "attachments": {},
   "cell_type": "markdown",
   "metadata": {},
   "source": [
    "$H_0$ = Nilai rata-rata pH sama dengan $3.29$ $(μ = 3.29)$\\\n",
    "$H_1$ = Nilai rata-rata pH lebih dari $3.29$ $(μ > 3.29)$\n",
    "\n",
    "Tingkat Signifikan $α = 0.05$\n",
    "\n",
    "Lakukan uji statistik dengan one tailed test ke arah kanan (right tailed test) karena $(μ > 3.29)$. Ambil daerah kritis $(z > z_α)$\n",
    "\n",
    "Hitung nilai z dengan rumus\n",
    "\n",
    "$$\n",
    "z = {(x̄-μ_0)\\over(σ/\\sqrt{n})}\n",
    "$$\n",
    "\n",
    "#### Pengambilan Keputusan\n",
    "##### Tes Daerah Kritis\n",
    "- Reject $H_0$ jika $(z > z_α)$\n",
    "- Fail to reject $H_0$ jika $(z \\le z_α)$\n",
    "##### Tes Signifikansi\n",
    "- Reject $H_0$ jika $p < α$\n",
    "- Fail to reject $H_0$ jika $p \\ge α$"
   ]
  },
  {
   "cell_type": "code",
   "execution_count": 2,
   "metadata": {},
   "outputs": [
    {
     "name": "stdout",
     "output_type": "stream",
     "text": [
      "Nilai z: 4.1038\n",
      "Nilai z_alpha: 1.6449\n",
      "Nilai p: 4.1e-05\n"
     ]
    }
   ],
   "source": [
    "# Diketahui\n",
    "rerata = 3.29\n",
    "alpha = 0.05\n",
    "\n",
    "# Menggunakan ztest module, menghitung z dan p\n",
    "z, p = ztest(dataAnggur['pH'], value = rerata)\n",
    "\n",
    "# Menghitung z_alpha\n",
    "z_a = st.norm.ppf(1-alpha)\n",
    "\n",
    "# Hasil\n",
    "print(f\"Nilai z: {round(z, 4)}\")\n",
    "print(f\"Nilai z_alpha: {round(z_a, 4)}\")\n",
    "print(f\"Nilai p: {round(p, 6)}\")"
   ]
  },
  {
   "attachments": {},
   "cell_type": "markdown",
   "metadata": {},
   "source": [
    "#### Hasil Tes\n",
    "*Tes Daerah Kritis*\\\n",
    "Karena $z$ lebih besar dibandingkan dengan $z_α$ $(4.103 > 1.644)$, reject $H_0$.\n",
    "\n",
    "*Tes Signifikansi*\\\n",
    "Karena $p$ lebih kecil dibandingkan $α$ $(0.000041 < 0.05)$, reject $H_0$.\n",
    "\n",
    "#### Kesimpulan\n",
    "**Dengan tingkat signifikansi sebesar 0.05,  ada bukti yang cukup untuk menolak klaim bahwa nilai rata-rata pH adalah 3.29. Maka nilai rata-rata pH lebih dari 3.29**"
   ]
  },
  {
   "attachments": {},
   "cell_type": "markdown",
   "metadata": {},
   "source": [
    "### b. Nilai rata-rata Residual Sugar tidak sama dengan 2.50?"
   ]
  },
  {
   "attachments": {},
   "cell_type": "markdown",
   "metadata": {},
   "source": [
    "$H_0$ = Nilai rata-rata Residual Sugar sama dengan $2.50$ $(μ = 2.50)$\\\n",
    "$H_1$ = Nilai rata-rata Residual Sugar lebih dari $2.50$ $(μ \\neq 2.50)$\n",
    "\n",
    "Tingkat Signifikan $α = 0.05$\n",
    "\n",
    "Lakukan uji statistik dengan two tailed test pada bagian kanan $μ > 2.50$ dengan $(z > z_{α/2})$ dan bagian kiri $μ < 2.50$ dengan $(z < -z_{α/2})$\n",
    "\n",
    "Hitung nilai z dengan rumus\n",
    "\n",
    "$$\n",
    "z = {(x̄-μ_0)\\over(σ/\\sqrt{n})}\n",
    "$$\n",
    "\n",
    "#### Pengambilan Keputusan\n",
    "##### Tes Daerah Kritis\n",
    "- Reject $H_0$ jika $z < -z_{\\alpha/2}$ atau $z > z_{\\alpha/2}$\n",
    "- Fail to reject $H_0$ jika $-z_{\\alpha/2} \\le z \\le z_{\\alpha/2}$\n",
    "##### Tes Signifikansi\n",
    "- Reject $H_0$ jika $p < \\alpha$\n",
    "- Fail to reject $H_0$ jika $p \\ge \\alpha$\n"
   ]
  },
  {
   "cell_type": "code",
   "execution_count": 3,
   "metadata": {},
   "outputs": [
    {
     "name": "stdout",
     "output_type": "stream",
     "text": [
      "Nilai z: 2.148\n",
      "Nilai z_alpha/2: 1.96\n",
      "Nilai p: 0.031717\n"
     ]
    }
   ],
   "source": [
    "# Diketahui\n",
    "rerata = 2.50\n",
    "alpha = 0.05\n",
    "\n",
    "# Menggunakan ztest module, menghitung z dan p\n",
    "z, p = ztest(dataAnggur['residual sugar'], value = rerata)\n",
    "\n",
    "# Menghitung z_alpha\n",
    "z_a = st.norm.ppf(1-(alpha/2))\n",
    "\n",
    "# Hasil\n",
    "print(f\"Nilai z: {round(z, 4)}\")\n",
    "print(f\"Nilai z_alpha/2: {round(z_a, 4)}\")\n",
    "print(f\"Nilai p: {round(p, 6)}\")"
   ]
  },
  {
   "attachments": {},
   "cell_type": "markdown",
   "metadata": {},
   "source": [
    "#### Hasil Tes\n",
    "*Tes Daerah Kritis*\\\n",
    "Karena $z$ lebih besar dibandingkan dengan $z_α$ $(2.148 > 1.96)$, reject $H_0$.\\\n",
    "*Tes Signifikansi*\\\n",
    "Karena $p$ lebih kecil dibandingkan $α$ $(0.031 < 0.05)$, reject $H_0$.\n",
    "\n",
    "#### Kesimpulan\n",
    "**Dengan tingkat signifikansi sebesar 0.05, ada bukti yang cukup untuk menolak klaim bahwa nilai rata-rata residual sugar sama dengan 2.5. Maka nilai rata-rata Residual Sugar lebih dari 2.5.**"
   ]
  },
  {
   "attachments": {},
   "cell_type": "markdown",
   "metadata": {},
   "source": [
    "### c. Nilai rata-rata 150 baris pertama kolom sulphates bukan 0.65?"
   ]
  },
  {
   "attachments": {},
   "cell_type": "markdown",
   "metadata": {},
   "source": [
    "$H_0$ = Nilai rata-rata 150 baris pertama kolom sulphates sama dengan $0.65$ $(μ = 0.65)$\\\n",
    "$H_1$ = Nilai rata-rata 150 baris pertama kolom sulphates tidak sama dengan $0.65$ $(μ \\neq 0.65)$\n",
    "\n",
    "Tingkat Signifikan $α = 0.05$\n",
    "\n",
    "Lakukan uji statistik dengan two tailed test pada bagian kanan $μ > 0.65$ dengan $(z > z_{α/2})$ dan bagian kiri $μ < 0.65$ dengan $(z < -z_{α/2})$\n",
    "\n",
    "Hitung nilai z dengan rumus\n",
    "\n",
    "$$\n",
    "z = {(x̄-μ_0)\\over(σ/\\sqrt{n})}\n",
    "$$\n",
    "\n",
    "#### Pengambilan Keputusan\n",
    "##### Tes Daerah Kritis\n",
    "- Reject $H_0$ jika $z < -z_{\\alpha/2}$ atau $z > z_{\\alpha/2}$\n",
    "- Fail to reject $H_0$ jika $-z_{\\alpha/2} \\le z \\le z_{\\alpha/2}$\n",
    "##### Tes Signifikansi\n",
    "- Reject $H_0$ jika $p < \\alpha$\n",
    "- Fail to reject $H_0$ jika $p \\ge \\alpha$"
   ]
  },
  {
   "cell_type": "code",
   "execution_count": 4,
   "metadata": {},
   "outputs": [
    {
     "name": "stdout",
     "output_type": "stream",
     "text": [
      "Nilai z: -4.9648\n",
      "Nilai z_alpha/2: 1.96\n",
      "Nilai p: 1e-06\n"
     ]
    }
   ],
   "source": [
    "# Diketahui\n",
    "rerata = 0.65\n",
    "alpha = 0.05\n",
    "\n",
    "# Menggunakan ztest module, menghitung z dan p\n",
    "z, p = ztest(dataAnggur['sulphates'].head(150), value = rerata)\n",
    "\n",
    "# Menghitung z_alpha\n",
    "z_a = st.norm.ppf(1-(alpha/2))\n",
    "\n",
    "# Hasil\n",
    "print(f\"Nilai z: {round(z, 4)}\")\n",
    "print(f\"Nilai z_alpha/2: {round(z_a, 4)}\")\n",
    "print(f\"Nilai p: {round(p, 6)}\")"
   ]
  },
  {
   "attachments": {},
   "cell_type": "markdown",
   "metadata": {},
   "source": [
    "#### Hasil Tes\n",
    "*Tes Daerah Kritis*\\\n",
    "Karena $z$ lebih kecil dibandingkan dengan $-z_{α/2}$ $(-4.9648 < -1.96)$, reject $H_0$.\\\n",
    "*Tes Signifikansi*\\\n",
    "Karena $p$ lebih kecil dibandingkan $α$ $(0.000001 < 0.05)$, reject $H_0$.\n",
    "\n",
    "#### Kesimpulan\n",
    "**Dengan tingkat signifikansi sebesar 0.05, ada bukti yang cukup untuk menolak klaim bahwa nilai rata-rata 150 baris pertama kolom sulphates sama dengan 0.65.**"
   ]
  },
  {
   "attachments": {},
   "cell_type": "markdown",
   "metadata": {},
   "source": [
    "### d. Nilai rata-rata total sulfur dioxide di bawah 35?"
   ]
  },
  {
   "attachments": {},
   "cell_type": "markdown",
   "metadata": {},
   "source": [
    "$H_0$ = Nilai rata-rata total sulfur dioxide sama dengan $35$ $(μ = 35)$\\\n",
    "$H_1$ = Nilai rata-rata total sulfur dioxide kurang dari $35$ $(μ < 35)$\n",
    "\n",
    "Tingkat Signifikan $α = 0.05$\n",
    "\n",
    "Lakukan uji statistik dengan one tailed test ke arah kiri (left tailed test) karena $(μ < 35)$. Ambil daerah kritis $(z < -z_α)$\n",
    "\n",
    "Hitung nilai z dengan rumus\n",
    "\n",
    "$$\n",
    "z = {(x̄-μ_0)\\over(σ/\\sqrt{n})}\n",
    "$$\n",
    "\n",
    "#### Pengambilan Keputusan\n",
    "##### Tes Daerah Kritis\n",
    "- Reject $H_0$ jika $(z < -z_α)$ \n",
    "- Fail to reject $H_0$ jika $(z \\ge z_α)$\n",
    "##### Tes Signifikansi\n",
    "- Reject $H_0$ jika $p < α$\n",
    "- Fail to reject $H_0$ jika $p \\ge α$\n"
   ]
  },
  {
   "cell_type": "code",
   "execution_count": 5,
   "metadata": {},
   "outputs": [
    {
     "name": "stdout",
     "output_type": "stream",
     "text": [
      "Nilai z: 16.7864\n",
      "Nilai -z_alpha: -1.6449\n",
      "Nilai p: 1.0\n"
     ]
    }
   ],
   "source": [
    "# Diketahui\n",
    "rerata = 35\n",
    "alpha = 0.05\n",
    "\n",
    "# Menggunakan ztest module, menghitung z dan p\n",
    "z, p = ztest(dataAnggur['total sulfur dioxide'], value = rerata)\n",
    "\n",
    "# Menghitung z_alpha\n",
    "z_a = st.norm.ppf(1-alpha)\n",
    "\n",
    "# Hasil\n",
    "print(f\"Nilai z: {round(z, 4)}\")\n",
    "print(f\"Nilai -z_alpha: -{round(z_a, 4)}\")\n",
    "# Karena merupakan one tailed test ke arah kiri, maka p-valuenya 1-p\n",
    "print(f\"Nilai p: {1-p}\")"
   ]
  },
  {
   "attachments": {},
   "cell_type": "markdown",
   "metadata": {},
   "source": [
    "#### Hasil Tes\n",
    "*Tes Daerah Kritis*\\\n",
    "Karena $z$ lebih besar dibandingkan dengan $-z_α$ $(16.78 > -1.6449)$, fail to reject $H_0$.\\\n",
    "*Tes Signifikansi*\\\n",
    "Karena  $p$ lebih kecil dibandingkan $α$ $(1 > 0.05)$, fail to reject $H_0$.\n",
    "\n",
    "#### Kesimpulan\n",
    "**Dengan tingkat signifikansi sebesar 0.05, tidak ada bukti yang cukup untuk menolak klaim bahwa nilai rata-rata total sulfur dioxide sama dengan 35.**"
   ]
  },
  {
   "attachments": {},
   "cell_type": "markdown",
   "metadata": {},
   "source": [
    "### e. Proporsi nilai total Sulfat Dioxide yang lebih dari 40, adalah tidak sama dengan 50% ?"
   ]
  },
  {
   "attachments": {},
   "cell_type": "markdown",
   "metadata": {},
   "source": [
    "$H_0$ = Proporsi nilai Conductivity yang lebih dari 40 sama dengan $50%$ $(p = 50\\%)$\\\n",
    "$H_1$ = Proporsi nilai Conductivity yang lebih dari 40 tidak sama dengan $50%$ $(p \\neq 50\\%)$\n",
    "\n",
    "Tingkat Signifikan $α = 0.05$\n",
    "\n",
    "Lakukan uji statistik dengan two tailed test pada bagian kanan dengan $(z > z_{α/2})$ dan bagian kiri dengan $(z < -z_{α/2})$\n",
    "\n",
    "\n",
    "Hitung nilai z dengan rumus\n",
    "\n",
    "$$\n",
    "z = {(p̂-p_0)\\over(p_0 q_0/\\sqrt{n})}\n",
    "$$\n",
    "\n",
    "#### Pengambilan Keputusan\n",
    "##### Tes Daerah Kritis\n",
    "- Reject $H_0$ jika $z < -z_{\\alpha/2}$ atau $z > z_{\\alpha/2}$\n",
    "- Fail to reject $H_0$ jika $-z_{\\alpha/2} \\le z \\le z_{\\alpha/2}$\n",
    "##### Tes Signifikansi\n",
    "- Reject $H_0$ jika $p < \\alpha$\n",
    "- Fail to reject $H_0$ jika $p \\ge \\alpha$"
   ]
  },
  {
   "cell_type": "code",
   "execution_count": 6,
   "metadata": {},
   "outputs": [
    {
     "name": "stdout",
     "output_type": "stream",
     "text": [
      "Nilai z: 0.7589\n",
      "Nilai z_alpha/2: 1.96\n",
      "Nilai p: 0.4479\n"
     ]
    }
   ],
   "source": [
    "p_0 = 0.50\n",
    "alpha = 0.05\n",
    "\n",
    "# Test\n",
    "TotalSD_over_40 = len(dataAnggur[dataAnggur[\"total sulfur dioxide\"] > 40])\n",
    "\n",
    "z, p = proportions_ztest(TotalSD_over_40,\n",
    "                         len(dataAnggur), value=p_0, prop_var=p_0)\n",
    "z_a = st.norm.ppf(1-alpha/2)\n",
    "\n",
    "# Results\n",
    "print(f\"Nilai z: {round(z, 4)}\")\n",
    "print(f\"Nilai z_alpha/2: {round(z_a, 4)}\")\n",
    "print(f\"Nilai p: {round(p, 4)}\")"
   ]
  },
  {
   "attachments": {},
   "cell_type": "markdown",
   "metadata": {},
   "source": [
    "#### Hasil Tes\n",
    "*Tes Daerah Kritis*\\\n",
    "Karena $z$ memenuhi $-z_α < z < z_α$ $(-1.96 < 0.758 < 1.96)$, fail to reject $H_0$.\\\n",
    "*Tes Signifikansi*\\\n",
    "Karena $p$ lebih besar dibandingkan $α$ $(0.447 > 0.05)$, fail to reject $H_0$.\n",
    "\n",
    "#### Kesimpulan\n",
    "**Dengan tingkat signifikansi sebesar 0.05, tidak ada bukti yang cukup untuk menolak klaim bahwa proporsi nilai sulfat dioxide yang lebih dari 40 adalah sama dengan 50%.**"
   ]
  }
 ],
 "metadata": {
  "kernelspec": {
   "display_name": "Python 3",
   "language": "python",
   "name": "python3"
  },
  "language_info": {
   "codemirror_mode": {
    "name": "ipython",
    "version": 3
   },
   "file_extension": ".py",
   "mimetype": "text/x-python",
   "name": "python",
   "nbconvert_exporter": "python",
   "pygments_lexer": "ipython3",
   "version": "3.10.5"
  },
  "orig_nbformat": 4,
  "vscode": {
   "interpreter": {
    "hash": "aee8b7b246df8f9039afb4144a1f6fd8d2ca17a180786b69acc140d282b71a49"
   }
  }
 },
 "nbformat": 4,
 "nbformat_minor": 2
}
