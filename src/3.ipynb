{
 "cells": [
  {
   "cell_type": "code",
   "execution_count": null,
   "metadata": {},
   "outputs": [],
   "source": [
    "import pandas as pd\n",
    "import matplotlib.pyplot as plt\n",
    "from scipy import stats\n",
    "\n",
    "dataAnggur = pd.read_csv('../data/anggur.csv')"
   ]
  },
  {
   "attachments": {},
   "cell_type": "markdown",
   "metadata": {},
   "source": [
    "Menentukan setiap kolom numerik berdistribusi normal atau tidak. Gunakan normality test\n",
    "yang dikaitkan dengan histogram plot"
   ]
  },
  {
   "attachments": {},
   "cell_type": "markdown",
   "metadata": {},
   "source": [
    "## Asumsi\n",
    "Pada tes normalitas yang dilakukan pada Tugas Besar II ini, berlaku asumsi sebagai berikut:\n",
    "- Suatu distibusi dapat dikatakan *positively skewed* apabila memiliki nilai *skewness* lebih besar dari 0.5\n",
    "- Suatu distibusi dapat dikatakan *negatively skewed* apabila memiliki nilai *skewness* lebih besar dari -0.5\n",
    "- Suatu distibusi dapat dikatakan simetris apabila memiliki nilai *skewness* diantara -0.5 sampai 0.5\n",
    "- Jika nilai modus = median = mean maka nilai *skewness* adalah nol\n",
    "- Jika nilai modus < median < mean maka distribusi dapat dikatakan *positively skewed* \n",
    "- Jika nilai modus > median > mean maka distribusi dapat dikatakan *negatively skewed* "
   ]
  },
  {
   "attachments": {},
   "cell_type": "markdown",
   "metadata": {},
   "source": [
    "## Metode Pengetesan Normalitas\n",
    "Secara umum, pengetesan normalitas dibagi menjadi dua cara, yaitu sebagai berikut.\n",
    "- Pengetesan melalui grafik. Pengetesan dilakukan dengan membandingkan grafik (histogram, QQ plot, dll.) dengan grafik yang bersesuaian dari sampel data yang berdistribusi normal. Pendekatan ini bersifat informal.\n",
    "- Pengetesan statistik. Pengetesan ini dilakukan dengan uji hipotesis. Contoh pengetesan normalitas secara statistik adalah Shapiro-Wilk test, Kolmogorov-Smirnov test, dan Jarque-Bera test. Pengetesan ini bersifat formal.\n",
    "<br>\n",
    "#\n",
    "Pada bagian ini, pengetesan normalitas yang digunakan yaitu pengetesan melalui histogram, yang akan dikaitkan dengan statistik-statistik tertentu seperti *skewness*, *excess kurtosis*, mean, median, dan modus. Lalu, hasil pengetesan tersebut dibandingkan dengan hasil pengetesan normalitas statistik, yaitu Jarque-Bera Test dan Shapiro-Wilk Test.\n",
    "<br><br>\n",
    "Berikut adalah penjelasan mengenai pengetesan yang digunakan.\n",
    "### 1. Pengetesan melalui Histogram\n",
    "Secara teoretis, data yang berdistribusi normal memiliki histogram dengan ciri sebagai berikut.\n",
    "- Histogram berbentuk bell-shaped yang simetris.\n",
    "- Histogram berbentuk simetris terhadap sumbu tegak x = mean.\n",
    "- Kurva mendekati sumbu datar secara asimtotik ke kiri dan kanan.\n",
    "- Skewness bernilai 0, yang menandakan distribusi simetris.\n",
    "- Kurtosis bernilai 3 (excess kurtosis bernilai 0).\n",
    "<br>\n",
    "#\n",
    "Pada pengetesan yang dilakukan, histogram setiap kolom divisualisasikan dan dibandingkan dengan ciri histogram di atas. Namun, untuk perhitungan skewness dan kurtosis, diberikan toleransi sebesar 0.5, seperti asumsi yang dituliskan di atas. \n",
    "### 2. Jarque-Bera Test\n",
    "Jarque-Bera Test adalah tes normalitas yang perhitungannya didasari oleh skewness dan kurtosis. Tes ini tidak selalu *reliable* untuk jumlah sampel yang kecil. Namun, sampel yang ada pada tiap kolom sudah cukup besar, yaitu sebanyak 1000 sampel.\n",
    "<br><br>\n",
    "Berikut adalah mekanisme pengujian hipotesis pada Jarque-Bera Test.\n",
    "- H0 : Data berdistribusi normal\n",
    "- H1 : Data tidak berdistribusi normal\n",
    "- Nilai Alpha : 0.05\n",
    "- Tes Statistik : (insert gambar rumus tes statistik)\n",
    "- Penarikan Kesimpulan : Jika Nilai P > alpha, maka H0 *fail to reject*, artinya data berdistribusi normal. Sebaliknya, jika Nilai P <= alpha, maka H0 *rejected*, artinya data tidak berdistribusi normal.\n",
    "### 3. Shapiro-Wilk Test\n",
    "Shapiro-Wilk Test adalah tes normalitas yang perhitungannya didasari oleh perbandingan antara data yang diobservasi dan *expected normal distribution* dari data tersebut. Tes ini tidak terlalu *reliable* untuk jumlah sampel yang kecil. Namun, sampel yang ada pada tiap kolom sudah cukup besar, yaitu sebanyak 1000 sampel.<br><br>\n",
    "Berikut adalah mekanisme pengujian hipotesis pada Shapiro-Wilk Test.\n",
    "- H0 : Data berdistribusi normal\n",
    "- H1 : Data tidak berdistribusi normal\n",
    "- Nilai Alpha : 0.05\n",
    "- Tes Statistik : (insert gambar rumus tes statistik)\n",
    "- Penarikan Kesimpulan : Jika Nilai P > alpha, maka H0 fail to reject, artinya data berdistribusi normal. Sebaliknya, jika Nilai P <= alpha, maka H0 rejected, artinya data tidak berdistribusi normal."
   ]
  },
  {
   "cell_type": "code",
   "execution_count": null,
   "metadata": {},
   "outputs": [],
   "source": [
    "# buat markdown kalo males\n",
    "def printAll(colName):\n",
    "    data = dataAnggur[colName]\n",
    "    print(colName.upper())\n",
    "    print(f\"normalityTests(\\\"{colName}\\\")\")\n",
    "    absSkThreshold = 0.5\n",
    "    absKurtThreshold = 0.5\n",
    "    alpha = 0.05\n",
    "    \n",
    "    sk = data.skew()\n",
    "    kurt = data.kurt()\n",
    "\n",
    "    # karna semuanya bell curve\n",
    "    # silakan benerin\n",
    "    print(f\"- Berdasarkan histogram di atas, kolom \\\"{colName}\\\" dapat dianggap berdistribusi normal karena histogramnya berbentuk *bell-shaped* yang simetris. \", end = \"\")\n",
    "    print(f\"*Skewness*-nya juga berada di antara -{absSkThreshold} dan {absSkThreshold} (*skewness* = {sk}, -{absSkThreshold} < {sk} < {absSkThreshold}), yang menandakan bahwa histogram di atas simetris. \", end = \"\")\n",
    "    print(f\"*Excess kurtosis*-nya juga berada di antara -{absKurtThreshold} dan {absKurtThreshold} (*excess kurtosis* = {kurt}, -{absKurtThreshold} < {kurt} < {absKurtThreshold}), yang menandakan bahwa histogram di atas memiliki keruncingan distribusi normal.\")\n",
    "    # jarque-bera test\n",
    "    _, p = stats.jarque_bera(data)\n",
    "    print(f\"- Berdasarkan Jarque-Bera Test, kolom \\\"{colName}\\\" \", end = \"\")\n",
    "    if (p > alpha):\n",
    "        print(f\"dapat dianggap berdistribusi normal karena Nilai P-nya lebih dari {alpha} (Nilai P = {p} > {alpha}).\")\n",
    "    else:\n",
    "        print(f\"tidak dapat dianggap berdistribusi normal karena Nilai P-nya tidak lebih dari {alpha} (Nilai P = {p} <= {alpha}).\")\n",
    "        \n",
    "    # Shapiro-Wilk Test\n",
    "    _, p = stats.shapiro(data)\n",
    "    print(f\"- Berdasarkan Shapiro-Wilk Test, kolom \\\"{colName}\\\" \", end = \"\")\n",
    "    if (p > alpha):\n",
    "        print(f\"dapat dianggap berdistribusi normal karena Nilai P-nya lebih dari {alpha} (Nilai P = {p} > {alpha}).\")\n",
    "    else:\n",
    "        print(f\"tidak dapat dianggap berdistribusi normal karena Nilai P-nya tidak lebih dari {alpha} (Nilai P = {p} <= {alpha}).\")\n",
    "        \n",
    "# print all md\n",
    "for col in dataAnggur:\n",
    "    printAll(col)\n",
    "    print()"
   ]
  },
  {
   "attachments": {},
   "cell_type": "markdown",
   "metadata": {},
   "source": [
    "### Fungsi Wrapper Normality Test"
   ]
  },
  {
   "cell_type": "code",
   "execution_count": null,
   "metadata": {},
   "outputs": [],
   "source": [
    "def normalityTests(colName):\n",
    "    dataCol = dataAnggur[colName]\n",
    "    # Create histogram\n",
    "    # kalo histogram mau dibuat custom style beda2 tiap kolom, bisa pake global dictionary\n",
    "    plt.hist(dataCol)\n",
    "    plt.show() \n",
    "    \n",
    "    # Check skewness\n",
    "    print(\"Skewness: \" , dataCol.skew())\n",
    "    \n",
    "    # Check kurtosis\n",
    "    print(\"\\nKurtosis: \", dataCol.kurtosis())\n",
    "    \n",
    "    # Jarque bera Test\n",
    "    print(\"\\nJarque-Bera Test\")\n",
    "    stat, p = stats.jarque_bera(dataCol)\n",
    "    print(\"Test, p-value = \", stat, \", \", p)\n",
    "\n",
    "    # Shapiro-Wilk Test\n",
    "    print(\"\\nShapiro-Wilk Test\")\n",
    "    stat, p = stats.shapiro(dataCol)\n",
    "    print(\"Test, p-value = \", stat, \", \", p)"
   ]
  },
  {
   "attachments": {},
   "cell_type": "markdown",
   "metadata": {},
   "source": [
    "## Hasil Tes Normalitas"
   ]
  },
  {
   "attachments": {},
   "cell_type": "markdown",
   "metadata": {},
   "source": [
    "### 1. fixed acidity"
   ]
  },
  {
   "cell_type": "code",
   "execution_count": null,
   "metadata": {},
   "outputs": [],
   "source": [
    "normalityTests(\"fixed acidity\")"
   ]
  },
  {
   "attachments": {},
   "cell_type": "markdown",
   "metadata": {},
   "source": [
    "Berdasarkan tes normalitas yang dilakukan di atas, kolom fixed acidity (tidak) berdistribusi normal karena ..."
   ]
  },
  {
   "attachments": {},
   "cell_type": "markdown",
   "metadata": {},
   "source": [
    "### 2. volatile acidity"
   ]
  },
  {
   "cell_type": "code",
   "execution_count": null,
   "metadata": {},
   "outputs": [],
   "source": [
    "normalityTests(\"volatile acidity\")"
   ]
  },
  {
   "attachments": {},
   "cell_type": "markdown",
   "metadata": {},
   "source": [
    "Berdasarkan tes normalitas yang dilakukan di atas, kolom volatile activity (tidak) berdistribusi normal karena ..."
   ]
  },
  {
   "attachments": {},
   "cell_type": "markdown",
   "metadata": {},
   "source": [
    "### 3. citric acid"
   ]
  },
  {
   "cell_type": "code",
   "execution_count": null,
   "metadata": {},
   "outputs": [],
   "source": [
    "normalityTests(\"citric acid\")"
   ]
  },
  {
   "attachments": {},
   "cell_type": "markdown",
   "metadata": {},
   "source": [
    "Berdasarkan tes normalitas yang dilakukan di atas, kolom citric acid (tidak) berdistribusi normal karena ..."
   ]
  },
  {
   "attachments": {},
   "cell_type": "markdown",
   "metadata": {},
   "source": [
    "### 4. residual sugar"
   ]
  },
  {
   "cell_type": "code",
   "execution_count": null,
   "metadata": {},
   "outputs": [],
   "source": [
    "normalityTests(\"residual sugar\")"
   ]
  },
  {
   "attachments": {},
   "cell_type": "markdown",
   "metadata": {},
   "source": [
    "Berdasarkan tes normalitas yang dilakukan di atas, kolom residual sugar (tidak) berdistribusi normal karena ..."
   ]
  },
  {
   "attachments": {},
   "cell_type": "markdown",
   "metadata": {},
   "source": [
    "### 5. chlorides"
   ]
  },
  {
   "cell_type": "code",
   "execution_count": null,
   "metadata": {},
   "outputs": [],
   "source": [
    "normalityTests(\"chlorides\")"
   ]
  },
  {
   "attachments": {},
   "cell_type": "markdown",
   "metadata": {},
   "source": [
    "Berdasarkan tes normalitas yang dilakukan di atas, kolom chlorides (tidak) berdistribusi normal karena ..."
   ]
  },
  {
   "attachments": {},
   "cell_type": "markdown",
   "metadata": {},
   "source": [
    "### 6. free sulfur dioxide"
   ]
  },
  {
   "cell_type": "code",
   "execution_count": null,
   "metadata": {},
   "outputs": [],
   "source": [
    "normalityTests(\"free sulfur dioxide\")"
   ]
  },
  {
   "attachments": {},
   "cell_type": "markdown",
   "metadata": {},
   "source": [
    "Berdasarkan tes normalitas yang dilakukan di atas, kolom free sulfur dioxide (tidak) berdistribusi normal karena ..."
   ]
  },
  {
   "attachments": {},
   "cell_type": "markdown",
   "metadata": {},
   "source": [
    "### 7. total sulfur dioxide"
   ]
  },
  {
   "cell_type": "code",
   "execution_count": null,
   "metadata": {},
   "outputs": [],
   "source": [
    "normalityTests(\"total sulfur dioxide\")"
   ]
  },
  {
   "attachments": {},
   "cell_type": "markdown",
   "metadata": {},
   "source": [
    "Berdasarkan tes normalitas yang dilakukan di atas, kolom total sulfur dioxide berdistribusi normal karena memiliki nilai *skewness* sebesar -0.02. Hal ini juga tercermin pada plot histogram yang memiliki bentuk *bell-shaped*."
   ]
  },
  {
   "attachments": {},
   "cell_type": "markdown",
   "metadata": {},
   "source": [
    "### 8. density"
   ]
  },
  {
   "cell_type": "code",
   "execution_count": null,
   "metadata": {},
   "outputs": [],
   "source": [
    "normalityTests(\"density\")"
   ]
  },
  {
   "attachments": {},
   "cell_type": "markdown",
   "metadata": {},
   "source": [
    "Berdasarkan tes normalitas yang dilakukan di atas, kolom fixed density (tidak) berdistribusi normal karena ..."
   ]
  },
  {
   "attachments": {},
   "cell_type": "markdown",
   "metadata": {},
   "source": [
    "### 9. pH"
   ]
  },
  {
   "cell_type": "code",
   "execution_count": null,
   "metadata": {},
   "outputs": [],
   "source": [
    "normalityTests(\"pH\")"
   ]
  },
  {
   "attachments": {},
   "cell_type": "markdown",
   "metadata": {},
   "source": [
    "Berdasarkan tes normalitas yang dilakukan di atas, kolom pH (tidak) berdistribusi normal karena ..."
   ]
  },
  {
   "attachments": {},
   "cell_type": "markdown",
   "metadata": {},
   "source": [
    "### 10. sulphates"
   ]
  },
  {
   "cell_type": "code",
   "execution_count": null,
   "metadata": {},
   "outputs": [],
   "source": [
    "normalityTests(\"sulphates\")"
   ]
  },
  {
   "attachments": {},
   "cell_type": "markdown",
   "metadata": {},
   "source": [
    "Berdasarkan tes normalitas yang dilakukan di atas, kolom sulphates (tidak) berdistribusi normal karena ..."
   ]
  },
  {
   "attachments": {},
   "cell_type": "markdown",
   "metadata": {},
   "source": [
    "### 11. alcohol"
   ]
  },
  {
   "cell_type": "code",
   "execution_count": null,
   "metadata": {},
   "outputs": [],
   "source": [
    "normalityTests(\"alcohol\")"
   ]
  },
  {
   "attachments": {},
   "cell_type": "markdown",
   "metadata": {},
   "source": [
    "Berdasarkan tes normalitas yang dilakukan di atas, kolom alcohol (tidak) berdistribusi normal karena ..."
   ]
  },
  {
   "attachments": {},
   "cell_type": "markdown",
   "metadata": {},
   "source": [
    "### 12. quality"
   ]
  },
  {
   "cell_type": "code",
   "execution_count": null,
   "metadata": {},
   "outputs": [],
   "source": [
    "normalityTests(\"quality\")"
   ]
  },
  {
   "attachments": {},
   "cell_type": "markdown",
   "metadata": {},
   "source": [
    "Berdasarkan tes normalitas yang dilakukan di atas, kolom quality (tidak) berdistribusi normal karena ..."
   ]
  }
 ],
 "metadata": {
  "kernelspec": {
   "display_name": "Python 3",
   "language": "python",
   "name": "python3"
  },
  "language_info": {
   "codemirror_mode": {
    "name": "ipython",
    "version": 3
   },
   "file_extension": ".py",
   "mimetype": "text/x-python",
   "name": "python",
   "nbconvert_exporter": "python",
   "pygments_lexer": "ipython3",
   "version": "3.9.7"
  },
  "orig_nbformat": 4,
  "vscode": {
   "interpreter": {
    "hash": "aee8b7b246df8f9039afb4144a1f6fd8d2ca17a180786b69acc140d282b71a49"
   }
  }
 },
 "nbformat": 4,
 "nbformat_minor": 2
}
